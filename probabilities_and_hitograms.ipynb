{
 "cells": [
  {
   "cell_type": "markdown",
   "id": "c76f0a5f-366a-4178-9b14-e009303dac5d",
   "metadata": {},
   "source": [
    "#### Creating a historgram from data & converting to probability density\n",
    "#### Proportion vs. probability"
   ]
  },
  {
   "cell_type": "code",
   "execution_count": 12,
   "id": "5a68fdf1-245d-4622-9f33-d8b96f5730aa",
   "metadata": {},
   "outputs": [
    {
     "data": {
      "image/png": "[encoded data removed]",
      "text/plain": [
       "<Figure size 432x288 with 1 Axes>"
      ]
     },
     "metadata": {
      "needs_background": "light"
     },
     "output_type": "display_data"
    }
   ],
   "source": [
    "import numpy as np\n",
    "import matplotlib.pyplot as plt\n",
    "\n",
    "data = [1, 2, 2, 2, 2, 2, 3, 3, 4, 5, 6, 6, 6, 6, 6, 7, 8, 8, 8, 9]\n",
    "\n",
    "#plt.hist(data)\n",
    "#plt.xlabel('Value')\n",
    "#plt.ylabel('Number of appearance (count)')\n",
    "#plt.show()\n",
    "\n",
    "y, x = np.histogram(data, bins=np.arange(1,11))\n",
    "yP = y/np.max(y)\n",
    "\n",
    "plt.bar(x[:-1], yP)\n",
    "plt.xlabel('Value')\n",
    "plt.ylabel('Proportion (norm.)')\n",
    "plt.xticks(np.arange(1, 10))\n",
    "plt.show()\n"
   ]
  },
  {
   "cell_type": "code",
   "execution_count": 21,
   "id": "87627d64-421a-4eca-a7d2-9bd269b58cd5",
   "metadata": {},
   "outputs": [
    {
     "data": {
      "image/png": "[encoded data removed]",
      "text/plain": [
       "<Figure size 432x288 with 1 Axes>"
      ]
     },
     "metadata": {
      "needs_background": "light"
     },
     "output_type": "display_data"
    }
   ],
   "source": [
    "faircoin = .5\n",
    "biascoin = .9\n",
    "\n",
    "nTrials = 10\n",
    "\n",
    "results = np.zeros((2, nTrials))\n",
    "\n",
    "for i in range(0, nTrials):\n",
    "    results[0,i] = np.random.rand()>faircoin\n",
    "    results[1,i] = np.random.rand()>biascoin\n",
    "    \n",
    "plt.plot(results[0,:]-.02, 's', markersize=10, label='fair coin')\n",
    "plt.plot(results[1,:]+.05, 's', markersize=10, label='bias coin')\n",
    "plt.xlabel('Flip #')\n",
    "plt.yticks([0, 1], ['Tails', 'Heads'])\n",
    "plt.show()"
   ]
  },
  {
   "cell_type": "code",
   "execution_count": 38,
   "id": "50912f1d-2194-4e5a-873f-7ccb721dd771",
   "metadata": {},
   "outputs": [
    {
     "ename": "ValueError",
     "evalue": "incomplete format",
     "output_type": "error",
     "traceback": [
      "\u001b[0;31m---------------------------------------------------------------------------\u001b[0m",
      "\u001b[0;31mValueError\u001b[0m                                Traceback (most recent call last)",
      "\u001b[0;32m/var/folders/3f/cnycqx6d15n7d14h019f_t680000gn/T/ipykernel_831/484378073.py\u001b[0m in \u001b[0;36m<module>\u001b[0;34m\u001b[0m\n\u001b[1;32m     21\u001b[0m \u001b[0;34m\u001b[0m\u001b[0m\n\u001b[1;32m     22\u001b[0m \u001b[0;32mfor\u001b[0m \u001b[0mi\u001b[0m \u001b[0;32min\u001b[0m \u001b[0mrange\u001b[0m\u001b[0;34m(\u001b[0m\u001b[0;36m1\u001b[0m\u001b[0;34m,\u001b[0m \u001b[0;36m7\u001b[0m\u001b[0;34m)\u001b[0m\u001b[0;34m:\u001b[0m\u001b[0;34m\u001b[0m\u001b[0;34m\u001b[0m\u001b[0m\n\u001b[0;32m---> 23\u001b[0;31m     \u001b[0mplt\u001b[0m\u001b[0;34m.\u001b[0m\u001b[0mtext\u001b[0m\u001b[0;34m(\u001b[0m\u001b[0mi\u001b[0m\u001b[0;34m,\u001b[0m \u001b[0moutcomes\u001b[0m\u001b[0;34m[\u001b[0m\u001b[0mi\u001b[0m\u001b[0;34m-\u001b[0m\u001b[0;36m1\u001b[0m\u001b[0;34m]\u001b[0m\u001b[0;34m/\u001b[0m\u001b[0mn\u001b[0m\u001b[0;34m-\u001b[0m\u001b[0;36m.025\u001b[0m\u001b[0;34m,\u001b[0m \u001b[0;34m'%s\\\\%'\u001b[0m \u001b[0;34m%\u001b[0m\u001b[0;34m(\u001b[0m\u001b[0moutcomes\u001b[0m\u001b[0;34m[\u001b[0m\u001b[0mi\u001b[0m\u001b[0;34m-\u001b[0m\u001b[0;36m1\u001b[0m\u001b[0;34m]\u001b[0m\u001b[0;34m/\u001b[0m\u001b[0mn\u001b[0m\u001b[0;34m)\u001b[0m\u001b[0;34m,\u001b[0m \u001b[0mcolor\u001b[0m\u001b[0;34m=\u001b[0m\u001b[0;34m'w'\u001b[0m\u001b[0;34m,\u001b[0m \u001b[0mfontsize\u001b[0m\u001b[0;34m=\u001b[0m\u001b[0;36m12\u001b[0m\u001b[0;34m,\u001b[0m \u001b[0mhorizontalalignment\u001b[0m\u001b[0;34m=\u001b[0m\u001b[0;34m'center'\u001b[0m\u001b[0;34m)\u001b[0m\u001b[0;34m\u001b[0m\u001b[0;34m\u001b[0m\u001b[0m\n\u001b[0m\u001b[1;32m     24\u001b[0m \u001b[0;34m\u001b[0m\u001b[0m\n\u001b[1;32m     25\u001b[0m \u001b[0mplt\u001b[0m\u001b[0;34m.\u001b[0m\u001b[0mshow\u001b[0m\u001b[0;34m(\u001b[0m\u001b[0;34m)\u001b[0m\u001b[0;34m\u001b[0m\u001b[0;34m\u001b[0m\u001b[0m\n",
      "\u001b[0;31mValueError\u001b[0m: incomplete format"
     ]
    },
    {
     "data": {
      "image/png": "[encoded data removed]",
      "text/plain": [
       "<Figure size 432x288 with 1 Axes>"
      ]
     },
     "metadata": {
      "needs_background": "light"
     },
     "output_type": "display_data"
    }
   ],
   "source": [
    "n = 50\n",
    "outcomes = np.zeros(6)\n",
    "pureprobs = np.array([2, 1, 1, 1, 1, 1])\n",
    "pureprobs = pureprobs / np.sum(pureprobs)\n",
    "\n",
    "for i in range(n):\n",
    "    # roll a 7-sided die\n",
    "    dieroll = np.random.randint(0, 7)\n",
    "    # make die biased\n",
    "    if dieroll == 6:\n",
    "        dieroll = 0\n",
    "        \n",
    "    outcomes[dieroll] += 1\n",
    "    \n",
    "plt.bar(range(1,7), outcomes/n, color='k', label='Empirical (proporion)')\n",
    "plt.plot(range(1,7), pureprobs, 'ms-', markersize=10, label='Theoretical (probability)')\n",
    "plt.xlabel('Die face')\n",
    "plt.ylabel('Probability or proportion')\n",
    "plt.legend()\n",
    "\n",
    "\n",
    "for i in range(1, 7):\n",
    "    plt.text(i, outcomes[i-1]/n-.025, '%s' %(outcomes[i-1]/n), color='w', fontsize=12, horizontalalignment='center')\n",
    "\n",
    "plt.show()"
   ]
  },
  {
   "cell_type": "code",
   "execution_count": null,
   "id": "76583122-49f4-4c3a-8eaa-1e8f2adfb9ba",
   "metadata": {},
   "outputs": [],
   "source": []
  }
 ],
 "metadata": {
  "kernelspec": {
   "display_name": "Python 3 (ipykernel)",
   "language": "python",
   "name": "python3"
  },
  "language_info": {
   "codemirror_mode": {
    "name": "ipython",
    "version": 3
   },
   "file_extension": ".py",
   "mimetype": "text/x-python",
   "name": "python",
   "nbconvert_exporter": "python",
   "pygments_lexer": "ipython3",
   "version": "3.9.7"
  }
 },
 "nbformat": 4,
 "nbformat_minor": 5
}
