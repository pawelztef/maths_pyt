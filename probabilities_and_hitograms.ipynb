{
 "cells": [
  {
   "cell_type": "markdown",
   "id": "c76f0a5f-366a-4178-9b14-e009303dac5d",
   "metadata": {},
   "source": [
    "#### Creating a historgram from data & converting to probability density\n",
    "#### Proportion vs. probability"
   ]
  },
  {
   "cell_type": "code",
   "execution_count": 12,
   "id": "5a68fdf1-245d-4622-9f33-d8b96f5730aa",
   "metadata": {},
   "outputs": [
    {
     "data": {
      "image/png": "[encoded data removed]",
      "text/plain": [
       "<Figure size 432x288 with 1 Axes>"
      ]
     },
     "metadata": {
      "needs_background": "light"
     },
     "output_type": "display_data"
    }
   ],
   "source": [
    "import numpy as np\n",
    "import matplotlib.pyplot as plt\n",
    "\n",
    "data = [1, 2, 2, 2, 2, 2, 3, 3, 4, 5, 6, 6, 6, 6, 6, 7, 8, 8, 8, 9]\n",
    "\n",
    "#plt.hist(data)\n",
    "#plt.xlabel('Value')\n",
    "#plt.ylabel('Number of appearance (count)')\n",
    "#plt.show()\n",
    "\n",
    "y, x = np.histogram(data, bins=np.arange(1,11))\n",
    "yP = y/np.max(y)\n",
    "\n",
    "plt.bar(x[:-1], yP)\n",
    "plt.xlabel('Value')\n",
    "plt.ylabel('Proportion (norm.)')\n",
    "plt.xticks(np.arange(1, 10))\n",
    "plt.show()\n"
   ]
  }
 ],
 "metadata": {
  "kernelspec": {
   "display_name": "Python 3 (ipykernel)",
   "language": "python",
   "name": "python3"
  },
  "language_info": {
   "codemirror_mode": {
    "name": "ipython",
    "version": 3
   },
   "file_extension": ".py",
   "mimetype": "text/x-python",
   "name": "python",
   "nbconvert_exporter": "python",
   "pygments_lexer": "ipython3",
   "version": "3.9.7"
  }
 },
 "nbformat": 4,
 "nbformat_minor": 5
}
