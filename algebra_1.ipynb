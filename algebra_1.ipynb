{
 "cells": [
  {
   "cell_type": "code",
   "execution_count": 3,
   "id": "08d1b500-d502-4624-acb3-1d4f485f364f",
   "metadata": {},
   "outputs": [],
   "source": [
    "import sympy as sym\n",
    "from IPython.display import display, Math"
   ]
  },
  {
   "cell_type": "code",
   "execution_count": 19,
   "id": "07fc5c97-433d-4302-89ff-a62196cec096",
   "metadata": {},
   "outputs": [
    {
     "data": {
      "text/plain": [
       "[5/2]"
      ]
     },
     "metadata": {},
     "output_type": "display_data"
    },
    {
     "data": {
      "text/latex": [
       "$\\displaystyle \\text{The solution is } 2 x - 5 \\text{ is x=} 2.5$"
      ],
      "text/plain": [
       "<IPython.core.display.Math object>"
      ]
     },
     "metadata": {},
     "output_type": "display_data"
    }
   ],
   "source": [
    "x = sym.symbols('x')\n",
    "\n",
    "expr = 2*x + 4 - 9\n",
    "display(sym.solve(expr))\n",
    "\n",
    "display(Math('\\\\text{The solution is } %s \\\\text{ is x=} %g' %(sym.latex(expr), sym.solve(expr)[0])))"
   ]
  },
  {
   "cell_type": "code",
   "execution_count": 23,
   "id": "1f26a672-00d3-4a2c-8fd6-29be939d9910",
   "metadata": {},
   "outputs": [
    {
     "name": "stdout",
     "output_type": "stream",
     "text": [
      "Solution #1 is -2\n",
      "Solution #2 is 2\n"
     ]
    }
   ],
   "source": [
    "expr = x**2 - 4\n",
    "sol = sym.solve(expr)\n",
    "\n",
    "for i in range(0, len(sol)):\n",
    "    print(f'Solution #{i+1} is {sol[i]}')"
   ]
  },
  {
   "cell_type": "code",
   "execution_count": null,
   "id": "e464cbc1-496d-4a00-8fae-0168e84f873a",
   "metadata": {},
   "outputs": [],
   "source": [
    "y = sym.symbols('y')\n",
    "\n",
    "expr = x/4 - x*y + 5\n",
    "\n",
    "display(sym.solve(expr, x))\n",
    "display(sym.solve(expr, y))"
   ]
  },
  {
   "cell_type": "markdown",
   "id": "962c9f7e-a9e7-461b-8453-f46ea272b936",
   "metadata": {},
   "source": [
    "### Excercies \n",
    "##### Exc. 1\n",
    "\n",
    "- Implement equation in Sympy\n",
    "- Simplify\n",
    "- Solve for q\n",
    "\n",
    "$ 3q + \\frac{4}{q} + 3 = 5q + \\frac{1}{q} +1$"
   ]
  },
  {
   "cell_type": "code",
   "execution_count": 4,
   "id": "688f5e95-7f67-496e-bf28-ac97e39a0aee",
   "metadata": {},
   "outputs": [],
   "source": [
    "import sympy as sym\n",
    "from IPython.display import display, Math"
   ]
  },
  {
   "cell_type": "code",
   "execution_count": 5,
   "id": "6d94e270-cf36-4ecf-b6fe-fb921836cb44",
   "metadata": {},
   "outputs": [
    {
     "data": {
      "text/latex": [
       "$\\displaystyle - 2 q + 2 + \\frac{3}{q}$"
      ],
      "text/plain": [
       "<IPython.core.display.Math object>"
      ]
     },
     "metadata": {},
     "output_type": "display_data"
    },
    {
     "data": {
      "text/latex": [
       "$\\displaystyle q=\\left[ \\frac{1}{2} - \\frac{\\sqrt{7}}{2}, \\  \\frac{1}{2} + \\frac{\\sqrt{7}}{2}\\right]$"
      ],
      "text/plain": [
       "<IPython.core.display.Math object>"
      ]
     },
     "metadata": {},
     "output_type": "display_data"
    }
   ],
   "source": [
    "q = sym.symbols('q')\n",
    "expr = 3*q + 4/q + 3 - 5*q - 1/q - 1\n",
    "\n",
    "# display(sym.simplify(expr))\n",
    "display(Math(sym.latex(expr.simplify())))\n",
    "display(Math('q=' + sym.latex(sym.solve(expr, q))))\n"
   ]
  },
  {
   "cell_type": "markdown",
   "id": "6ad7a4b7-d41a-410e-9d75-8a3cbbb6b501",
   "metadata": {},
   "source": [
    "##### Exc. 2\n",
    "- Implement this equation in Sympy\n",
    "- Apply the functions simplify and cancel\n",
    "- Read the help text to understand difference in outputs\n",
    "\n",
    "$2q+3q^2-\\frac{5}{q}-\\frac{4}{q^3}$"
   ]
  },
  {
   "cell_type": "code",
   "execution_count": 10,
   "id": "bc6048e1-a0fe-4394-a47c-43ab7545af98",
   "metadata": {},
   "outputs": [
    {
     "data": {
      "text/latex": [
       "$\\displaystyle 3 q^{2} + 2 q - \\frac{5}{q} - \\frac{4}{q^{3}}$"
      ],
      "text/plain": [
       "<IPython.core.display.Math object>"
      ]
     },
     "metadata": {},
     "output_type": "display_data"
    },
    {
     "data": {
      "text/latex": [
       "$\\displaystyle 3 q^{2} + 2 q - \\frac{5}{q} - \\frac{4}{q^{3}}$"
      ],
      "text/plain": [
       "<IPython.core.display.Math object>"
      ]
     },
     "metadata": {},
     "output_type": "display_data"
    },
    {
     "data": {
      "text/latex": [
       "$\\displaystyle \\frac{3 q^{5} + 2 q^{4} - 5 q^{2} - 4}{q^{3}}$"
      ],
      "text/plain": [
       "<IPython.core.display.Math object>"
      ]
     },
     "metadata": {},
     "output_type": "display_data"
    }
   ],
   "source": [
    "q = sym.symbols('q')\n",
    "expr = 2*q + 3*q**2 - 5/q - 4/q**3\n",
    "\n",
    "display(Math(sym.latex(expr)))\n",
    "display(Math(sym.latex(sym.simplify(expr))))\n",
    "display(Math(sym.latex(sym.cancel(expr))))\n"
   ]
  },
  {
   "cell_type": "markdown",
   "id": "83d437dc-bdb0-4cc3-b112-991a5afa1b4f",
   "metadata": {},
   "source": [
    "##### Exc. 3\n",
    "\n",
    "- Implement this equation in Sympy\n",
    "- Simplify\n",
    "- Confirm the algebra on your own using paper and pen!\n",
    "- Test in Python by substituting nubmer for q.\n",
    "\n",
    "$\\frac{\\sqrt{3}+\\sqrt{15}q}{\\sqrt{2}+\\sqrt{10}q}$"
   ]
  },
  {
   "cell_type": "code",
   "execution_count": 16,
   "id": "50774c98-6fbb-491a-8113-8d49441cb019",
   "metadata": {},
   "outputs": [
    {
     "data": {
      "text/latex": [
       "$\\displaystyle \\frac{\\sqrt{15} q + \\sqrt{3}}{\\sqrt{10} q + \\sqrt{2}}$"
      ],
      "text/plain": [
       "<IPython.core.display.Math object>"
      ]
     },
     "metadata": {},
     "output_type": "display_data"
    }
   ],
   "source": [
    "expr = (sym.sqrt(3)+sym.sqrt(15)*q)/(sym.sqrt(2)+sym.sqrt(10)*q)\n",
    "\n",
    "display(Math(sym.latex(expr)))"
   ]
  },
  {
   "cell_type": "code",
   "execution_count": 23,
   "id": "01028311-0832-4e3f-8a2e-54d0539354eb",
   "metadata": {},
   "outputs": [
    {
     "data": {
      "text/latex": [
       "$\\displaystyle 1.22474487139159$"
      ],
      "text/plain": [
       "1.22474487139159"
      ]
     },
     "metadata": {},
     "output_type": "display_data"
    },
    {
     "data": {
      "text/latex": [
       "$\\displaystyle 1.22474487139159$"
      ],
      "text/plain": [
       "1.22474487139159"
      ]
     },
     "metadata": {},
     "output_type": "display_data"
    },
    {
     "data": {
      "text/latex": [
       "$\\displaystyle 1.22474487139159$"
      ],
      "text/plain": [
       "1.22474487139159"
      ]
     },
     "metadata": {},
     "output_type": "display_data"
    }
   ],
   "source": [
    "display(expr.subs(q, 10).evalf())\n",
    "display(expr.subs(q, -99).evalf())\n",
    "display(expr.subs(q, 12233).evalf())"
   ]
  },
  {
   "cell_type": "code",
   "execution_count": 24,
   "id": "422a07cf-1c9c-4f9e-a87e-76520aef9840",
   "metadata": {},
   "outputs": [
    {
     "data": {
      "text/latex": [
       "$\\displaystyle \\frac{\\sqrt{6}}{2}$"
      ],
      "text/plain": [
       "<IPython.core.display.Math object>"
      ]
     },
     "metadata": {},
     "output_type": "display_data"
    }
   ],
   "source": [
    "display(Math(sym.latex(sym.simplify(expr))))"
   ]
  },
  {
   "cell_type": "markdown",
   "id": "27ce2c88-a9fb-4c21-b314-14f068a25f0a",
   "metadata": {},
   "source": [
    "#### Expanding terms\n",
    "\n",
    "$a(b+c) = ab + ac$\n",
    "\n",
    "$(a+b)(c+d) = ac+ad+bc+bd$"
   ]
  },
  {
   "cell_type": "code",
   "execution_count": null,
   "id": "7539bd77-48c5-4347-99da-198dfe95b564",
   "metadata": {},
   "outputs": [],
   "source": [
    "import sympy as sym\n",
    "from IPython.display import display, Math"
   ]
  },
  {
   "cell_type": "code",
   "execution_count": 32,
   "id": "2e1f8486-8527-4b12-832d-d5971ab21388",
   "metadata": {},
   "outputs": [
    {
     "data": {
      "text/latex": [
       "$\\displaystyle \\left(x - 7\\right) \\left(4 x + 5\\right)$"
      ],
      "text/plain": [
       "<IPython.core.display.Math object>"
      ]
     },
     "metadata": {},
     "output_type": "display_data"
    },
    {
     "data": {
      "text/latex": [
       "$\\displaystyle 4 x^{2} - 23 x - 35$"
      ],
      "text/plain": [
       "<IPython.core.display.Math object>"
      ]
     },
     "metadata": {},
     "output_type": "display_data"
    }
   ],
   "source": [
    "# x = sym.symbols('x')\n",
    "# other way of above\n",
    "from sympy.abc import x\n",
    "\n",
    "term1 = 4*x + 5\n",
    "term2 = x-7\n",
    "\n",
    "display(Math(sym.latex(term1*term2)))\n",
    "display(Math(sym.latex(sym.expand(term1*term2))))"
   ]
  },
  {
   "cell_type": "code",
   "execution_count": 34,
   "id": "772b7965-e272-456e-a08b-afe876d96357",
   "metadata": {},
   "outputs": [
    {
     "data": {
      "text/latex": [
       "$\\displaystyle x \\left(- \\frac{5^{x}}{x} + 2 y^{2}\\right)$"
      ],
      "text/plain": [
       "<IPython.core.display.Math object>"
      ]
     },
     "metadata": {},
     "output_type": "display_data"
    },
    {
     "data": {
      "text/latex": [
       "$\\displaystyle - 5^{x} + 2 x y^{2}$"
      ],
      "text/plain": [
       "<IPython.core.display.Math object>"
      ]
     },
     "metadata": {},
     "output_type": "display_data"
    }
   ],
   "source": [
    "from sympy.abc import y\n",
    "\n",
    "expr = x*(2*y**2 - 5**x/x)\n",
    "\n",
    "display(Math(sym.latex(expr)))\n",
    "display(Math(sym.latex(sym.expand(expr))))"
   ]
  },
  {
   "cell_type": "code",
   "execution_count": 35,
   "id": "32617989-cbfe-4891-a2db-eaccc0194a41",
   "metadata": {},
   "outputs": [
    {
     "name": "stdout",
     "output_type": "stream",
     "text": [
      "Variable   Type        Data/Info\n",
      "--------------------------------\n",
      "Math       type        <class 'IPython.core.display.Math'>\n",
      "display    function    <function display at 0x7fa3fb8550d0>\n",
      "expr       Mul         x*(-5**x/x + 2*y**2)\n",
      "q          Symbol      q\n",
      "sym        module      <module 'sympy' from '/Us<...>kages/sympy/__init__.py'>\n",
      "term1      Add         4*x + 5\n",
      "term2      Add         x - 7\n",
      "x          Symbol      x\n",
      "y          Symbol      y\n"
     ]
    }
   ],
   "source": [
    "# print all variables \n",
    "%whos"
   ]
  },
  {
   "cell_type": "markdown",
   "id": "062a0b46-6653-491b-aa66-22d5336c61c9",
   "metadata": {},
   "source": [
    "##### Excersie\n",
    "###### expand and resolve\n",
    "\n",
    "$f(x, y) = (4+x)(2-y)$\n",
    "\n",
    "$x, y \\in \\{1, 0, 2\\}$\n",
    "\n",
    "expected result:\n",
    "\n",
    "$\\text{When }x=0 \\text{ and } y=0, f(x,y)=8$ \n",
    "\n",
    "$\\text{When }x=0 \\text{ and } y=1, f(x,y)=4$\n",
    "\n",
    "$\\text{When }x=0 \\text{ and } y=2, f(x,y)=0$\n",
    "\n",
    "$\\text{When }x=1 \\text{ and } y=0, f(x,y)=10$\n",
    "\n",
    "$\\text{When }x=1 \\text{ and } y=1, f(x,y)=5$\n",
    "\n",
    "$\\text{When }x=2 \\text{ and } y=0, f(x,y)=12$\n",
    "\n",
    "$\\text{When }x=2 \\text{ and } y=1, f(x,y)=6$\n",
    "\n",
    "$\\text{When }x=2 \\text{ and } y=2, f(x,y)=0$\n"
   ]
  },
  {
   "cell_type": "code",
   "execution_count": 20,
   "id": "13f92f77-2498-4dd5-9bbc-797465bdc0fb",
   "metadata": {},
   "outputs": [
    {
     "data": {
      "text/latex": [
       "$\\displaystyle \\left(2 - y\\right) \\left(x + 4\\right)$"
      ],
      "text/plain": [
       "<IPython.core.display.Math object>"
      ]
     },
     "metadata": {},
     "output_type": "display_data"
    },
    {
     "data": {
      "text/latex": [
       "$\\displaystyle - x y + 2 x - 4 y + 8$"
      ],
      "text/plain": [
       "<IPython.core.display.Math object>"
      ]
     },
     "metadata": {},
     "output_type": "display_data"
    },
    {
     "data": {
      "text/latex": [
       "$\\displaystyle \\text{When } x = 0 \\text{ and } y = 0\\text{, } f(x,y)=8$"
      ],
      "text/plain": [
       "<IPython.core.display.Math object>"
      ]
     },
     "metadata": {},
     "output_type": "display_data"
    },
    {
     "data": {
      "text/latex": [
       "$\\displaystyle \\text{When } x = 0 \\text{ and } y = 1\\text{, } f(x,y)=4$"
      ],
      "text/plain": [
       "<IPython.core.display.Math object>"
      ]
     },
     "metadata": {},
     "output_type": "display_data"
    },
    {
     "data": {
      "text/latex": [
       "$\\displaystyle \\text{When } x = 0 \\text{ and } y = 2\\text{, } f(x,y)=0$"
      ],
      "text/plain": [
       "<IPython.core.display.Math object>"
      ]
     },
     "metadata": {},
     "output_type": "display_data"
    },
    {
     "data": {
      "text/latex": [
       "$\\displaystyle \\text{When } x = 1 \\text{ and } y = 0\\text{, } f(x,y)=10$"
      ],
      "text/plain": [
       "<IPython.core.display.Math object>"
      ]
     },
     "metadata": {},
     "output_type": "display_data"
    },
    {
     "data": {
      "text/latex": [
       "$\\displaystyle \\text{When } x = 1 \\text{ and } y = 1\\text{, } f(x,y)=5$"
      ],
      "text/plain": [
       "<IPython.core.display.Math object>"
      ]
     },
     "metadata": {},
     "output_type": "display_data"
    },
    {
     "data": {
      "text/latex": [
       "$\\displaystyle \\text{When } x = 1 \\text{ and } y = 2\\text{, } f(x,y)=0$"
      ],
      "text/plain": [
       "<IPython.core.display.Math object>"
      ]
     },
     "metadata": {},
     "output_type": "display_data"
    },
    {
     "data": {
      "text/latex": [
       "$\\displaystyle \\text{When } x = 2 \\text{ and } y = 0\\text{, } f(x,y)=12$"
      ],
      "text/plain": [
       "<IPython.core.display.Math object>"
      ]
     },
     "metadata": {},
     "output_type": "display_data"
    },
    {
     "data": {
      "text/latex": [
       "$\\displaystyle \\text{When } x = 2 \\text{ and } y = 1\\text{, } f(x,y)=6$"
      ],
      "text/plain": [
       "<IPython.core.display.Math object>"
      ]
     },
     "metadata": {},
     "output_type": "display_data"
    },
    {
     "data": {
      "text/latex": [
       "$\\displaystyle \\text{When } x = 2 \\text{ and } y = 2\\text{, } f(x,y)=0$"
      ],
      "text/plain": [
       "<IPython.core.display.Math object>"
      ]
     },
     "metadata": {},
     "output_type": "display_data"
    }
   ],
   "source": [
    "import sympy as sym\n",
    "from IPython.display import display, Math\n",
    "\n",
    "x, y = sym.symbols('x, y')\n",
    "expr = (4+x)*(2-y)\n",
    "numrange = range(0, 3)\n",
    "\n",
    "display(Math(sym.latex(expr)))\n",
    "display(Math(sym.latex(sym.expand(expr))))\n",
    "\n",
    "for xi in numrange:\n",
    "    for yi in numrange:\n",
    "        res = expr.subs({x: xi, y: yi})\n",
    "        display(Math('\\\\text{When } x = %g \\\\text{ and } y = %g\\\\text{, } f(x,y)=%g' %(xi, yi, res)))\n",
    "        \n"
   ]
  },
  {
   "cell_type": "code",
   "execution_count": 6,
   "id": "87ff6828-7dc8-41c2-858c-ba237f1f5213",
   "metadata": {},
   "outputs": [
    {
     "data": {
      "text/latex": [
       "$\\displaystyle \\left[\\begin{matrix}1 & 2\\\\3 & 4\\end{matrix}\\right]$"
      ],
      "text/plain": [
       "<IPython.core.display.Math object>"
      ]
     },
     "metadata": {},
     "output_type": "display_data"
    },
    {
     "data": {
      "text/latex": [
       "$\\displaystyle \\left[\\begin{matrix}0.0 & 0.0 & 0.0 & 0.0 & 0.0 & 0.0\\\\0.0 & 0.0 & 0.0 & 0.0 & 0.0 & 0.0\\\\0.0 & 0.0 & 0.0 & 0.0 & 0.0 & 0.0\\\\0.0 & 0.0 & 0.0 & 0.0 & 0.0 & 0.0\\end{matrix}\\right]$"
      ],
      "text/plain": [
       "<IPython.core.display.Math object>"
      ]
     },
     "metadata": {},
     "output_type": "display_data"
    }
   ],
   "source": [
    "import sympy as sym\n",
    "import numpy as np\n",
    "from IPython.display import display, Math\n",
    "\n",
    "A = np.array([ [1,2],[3,4] ])\n",
    "display(Math(sym.latex(sym.sympify(A))))\n",
    "\n",
    "mat = np.zeros([4, 6])\n",
    "display(Math(sym.latex(sym.sympify(mat))))"
   ]
  },
  {
   "cell_type": "code",
   "execution_count": 7,
   "id": "34425941-74fb-4f2f-922d-70ff0ed1a4ef",
   "metadata": {},
   "outputs": [
    {
     "data": {
      "text/latex": [
       "$\\displaystyle \\left[\\begin{matrix}0.0 & 2.0 & 0.0 & 0.0 & 0.0 & 0.0\\\\0.0 & 0.0 & 0.0 & 0.0 & 0.0 & 0.0\\\\0.0 & 0.0 & 0.0 & 0.0 & 7.0 & 0.0\\\\0.0 & 0.0 & 0.0 & 0.0 & 0.0 & 0.0\\end{matrix}\\right]$"
      ],
      "text/plain": [
       "<IPython.core.display.Math object>"
      ]
     },
     "metadata": {},
     "output_type": "display_data"
    }
   ],
   "source": [
    "mat[0,1] = 2\n",
    "mat[2,4] = 7\n",
    "        \n",
    "display(Math(sym.latex(sym.sympify(mat))))"
   ]
  },
  {
   "cell_type": "code",
   "execution_count": 8,
   "id": "2f304d46-6bd5-47aa-8607-42a3386a361c",
   "metadata": {},
   "outputs": [
    {
     "data": {
      "text/latex": [
       "$\\displaystyle \\left[\\begin{matrix}1.0 & -1.0 & 1.0 & -1.0 & 0.0 & 0.0\\\\-1.0 & 1.0 & -1.0 & 1.0 & 0.0 & 0.0\\\\1.0 & -1.0 & 1.0 & -1.0 & 7.0 & 0.0\\\\-1.0 & 1.0 & -1.0 & 1.0 & 0.0 & 0.0\\end{matrix}\\right]$"
      ],
      "text/plain": [
       "<IPython.core.display.Math object>"
      ]
     },
     "metadata": {},
     "output_type": "display_data"
    }
   ],
   "source": [
    "numrange = range(0,4)\n",
    "\n",
    "for rowi in numrange:\n",
    "    for coli in numrange:\n",
    "        mat[rowi, coli] = (-1)**(rowi+coli)\n",
    "\n",
    "display(Math(sym.latex(sym.sympify(mat))))"
   ]
  }
 ],
 "metadata": {
  "kernelspec": {
   "display_name": "Python 3 (ipykernel)",
   "language": "python",
   "name": "python3"
  },
  "language_info": {
   "codemirror_mode": {
    "name": "ipython",
    "version": 3
   },
   "file_extension": ".py",
   "mimetype": "text/x-python",
   "name": "python",
   "nbconvert_exporter": "python",
   "pygments_lexer": "ipython3",
   "version": "3.9.7"
  }
 },
 "nbformat": 4,
 "nbformat_minor": 5
}
