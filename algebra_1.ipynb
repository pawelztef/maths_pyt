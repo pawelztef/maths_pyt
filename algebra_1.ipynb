{
 "cells": [
  {
   "cell_type": "code",
   "execution_count": 1,
   "id": "08d1b500-d502-4624-acb3-1d4f485f364f",
   "metadata": {},
   "outputs": [],
   "source": [
    "import sympy as sym\n",
    "from IPython.display import display, Math"
   ]
  },
  {
   "cell_type": "code",
   "execution_count": 2,
   "id": "07fc5c97-433d-4302-89ff-a62196cec096",
   "metadata": {},
   "outputs": [
    {
     "data": {
      "text/plain": [
       "[5/2]"
      ]
     },
     "metadata": {},
     "output_type": "display_data"
    },
    {
     "data": {
      "text/latex": [
       "$\\displaystyle \\text{The solution is } 2 x - 5 \\text{ is x=} 2.5$"
      ],
      "text/plain": [
       "<IPython.core.display.Math object>"
      ]
     },
     "metadata": {},
     "output_type": "display_data"
    }
   ],
   "source": [
    "x = sym.symbols('x')\n",
    "\n",
    "expr = 2*x + 4 - 9\n",
    "display(sym.solve(expr))\n",
    "\n",
    "display(Math('\\\\text{The solution is } %s \\\\text{ is x=} %g' %(sym.latex(expr), sym.solve(expr)[0])))"
   ]
  },
  {
   "cell_type": "code",
   "execution_count": 3,
   "id": "1f26a672-00d3-4a2c-8fd6-29be939d9910",
   "metadata": {},
   "outputs": [
    {
     "name": "stdout",
     "output_type": "stream",
     "text": [
      "Solution #1 is -2\n",
      "Solution #2 is 2\n"
     ]
    }
   ],
   "source": [
    "expr = x**2 - 4\n",
    "sol = sym.solve(expr)\n",
    "\n",
    "for i in range(0, len(sol)):\n",
    "    print(f'Solution #{i+1} is {sol[i]}')"
   ]
  },
  {
   "cell_type": "code",
   "execution_count": 4,
   "id": "e464cbc1-496d-4a00-8fae-0168e84f873a",
   "metadata": {},
   "outputs": [
    {
     "data": {
      "text/plain": [
       "[20/(4*y - 1)]"
      ]
     },
     "metadata": {},
     "output_type": "display_data"
    },
    {
     "data": {
      "text/plain": [
       "[(x + 20)/(4*x)]"
      ]
     },
     "metadata": {},
     "output_type": "display_data"
    }
   ],
   "source": [
    "y = sym.symbols('y')\n",
    "\n",
    "expr = x/4 - x*y + 5\n",
    "\n",
    "display(sym.solve(expr, x))\n",
    "display(sym.solve(expr, y))"
   ]
  },
  {
   "cell_type": "markdown",
   "id": "962c9f7e-a9e7-461b-8453-f46ea272b936",
   "metadata": {},
   "source": [
    "### Excercies \n",
    "##### Exc. 1\n",
    "\n",
    "- Implement equation in Sympy\n",
    "- Simplify\n",
    "- Solve for q\n",
    "\n",
    "$ 3q + \\frac{4}{q} + 3 = 5q + \\frac{1}{q} +1$"
   ]
  },
  {
   "cell_type": "code",
   "execution_count": 5,
   "id": "688f5e95-7f67-496e-bf28-ac97e39a0aee",
   "metadata": {},
   "outputs": [],
   "source": [
    "import sympy as sym\n",
    "from IPython.display import display, Math"
   ]
  },
  {
   "cell_type": "code",
   "execution_count": 6,
   "id": "6d94e270-cf36-4ecf-b6fe-fb921836cb44",
   "metadata": {},
   "outputs": [
    {
     "data": {
      "text/latex": [
       "$\\displaystyle - 2 q + 2 + \\frac{3}{q}$"
      ],
      "text/plain": [
       "<IPython.core.display.Math object>"
      ]
     },
     "metadata": {},
     "output_type": "display_data"
    },
    {
     "data": {
      "text/latex": [
       "$\\displaystyle q=\\left[ \\frac{1}{2} - \\frac{\\sqrt{7}}{2}, \\  \\frac{1}{2} + \\frac{\\sqrt{7}}{2}\\right]$"
      ],
      "text/plain": [
       "<IPython.core.display.Math object>"
      ]
     },
     "metadata": {},
     "output_type": "display_data"
    }
   ],
   "source": [
    "q = sym.symbols('q')\n",
    "expr = 3*q + 4/q + 3 - 5*q - 1/q - 1\n",
    "\n",
    "# display(sym.simplify(expr))\n",
    "display(Math(sym.latex(expr.simplify())))\n",
    "display(Math('q=' + sym.latex(sym.solve(expr, q))))\n"
   ]
  },
  {
   "cell_type": "markdown",
   "id": "6ad7a4b7-d41a-410e-9d75-8a3cbbb6b501",
   "metadata": {},
   "source": [
    "##### Exc. 2\n",
    "- Implement this equation in Sympy\n",
    "- Apply the functions simplify and cancel\n",
    "- Read the help text to understand difference in outputs\n",
    "\n",
    "$2q+3q^2-\\frac{5}{q}-\\frac{4}{q^3}$"
   ]
  },
  {
   "cell_type": "code",
   "execution_count": 7,
   "id": "bc6048e1-a0fe-4394-a47c-43ab7545af98",
   "metadata": {},
   "outputs": [
    {
     "data": {
      "text/latex": [
       "$\\displaystyle 3 q^{2} + 2 q - \\frac{5}{q} - \\frac{4}{q^{3}}$"
      ],
      "text/plain": [
       "<IPython.core.display.Math object>"
      ]
     },
     "metadata": {},
     "output_type": "display_data"
    },
    {
     "data": {
      "text/latex": [
       "$\\displaystyle 3 q^{2} + 2 q - \\frac{5}{q} - \\frac{4}{q^{3}}$"
      ],
      "text/plain": [
       "<IPython.core.display.Math object>"
      ]
     },
     "metadata": {},
     "output_type": "display_data"
    },
    {
     "data": {
      "text/latex": [
       "$\\displaystyle \\frac{3 q^{5} + 2 q^{4} - 5 q^{2} - 4}{q^{3}}$"
      ],
      "text/plain": [
       "<IPython.core.display.Math object>"
      ]
     },
     "metadata": {},
     "output_type": "display_data"
    }
   ],
   "source": [
    "q = sym.symbols('q')\n",
    "expr = 2*q + 3*q**2 - 5/q - 4/q**3\n",
    "\n",
    "display(Math(sym.latex(expr)))\n",
    "display(Math(sym.latex(sym.simplify(expr))))\n",
    "display(Math(sym.latex(sym.cancel(expr))))\n"
   ]
  },
  {
   "cell_type": "markdown",
   "id": "83d437dc-bdb0-4cc3-b112-991a5afa1b4f",
   "metadata": {},
   "source": [
    "##### Exc. 3\n",
    "\n",
    "- Implement this equation in Sympy\n",
    "- Simplify\n",
    "- Confirm the algebra on your own using paper and pen!\n",
    "- Test in Python by substituting nubmer for q.\n",
    "\n",
    "$\\frac{\\sqrt{3}+\\sqrt{15}q}{\\sqrt{2}+\\sqrt{10}q}$"
   ]
  },
  {
   "cell_type": "code",
   "execution_count": 8,
   "id": "50774c98-6fbb-491a-8113-8d49441cb019",
   "metadata": {},
   "outputs": [
    {
     "data": {
      "text/latex": [
       "$\\displaystyle \\frac{\\sqrt{15} q + \\sqrt{3}}{\\sqrt{10} q + \\sqrt{2}}$"
      ],
      "text/plain": [
       "<IPython.core.display.Math object>"
      ]
     },
     "metadata": {},
     "output_type": "display_data"
    }
   ],
   "source": [
    "expr = (sym.sqrt(3)+sym.sqrt(15)*q)/(sym.sqrt(2)+sym.sqrt(10)*q)\n",
    "\n",
    "display(Math(sym.latex(expr)))"
   ]
  },
  {
   "cell_type": "code",
   "execution_count": 9,
   "id": "01028311-0832-4e3f-8a2e-54d0539354eb",
   "metadata": {},
   "outputs": [
    {
     "data": {
      "text/latex": [
       "$\\displaystyle 1.22474487139159$"
      ],
      "text/plain": [
       "1.22474487139159"
      ]
     },
     "metadata": {},
     "output_type": "display_data"
    },
    {
     "data": {
      "text/latex": [
       "$\\displaystyle 1.22474487139159$"
      ],
      "text/plain": [
       "1.22474487139159"
      ]
     },
     "metadata": {},
     "output_type": "display_data"
    },
    {
     "data": {
      "text/latex": [
       "$\\displaystyle 1.22474487139159$"
      ],
      "text/plain": [
       "1.22474487139159"
      ]
     },
     "metadata": {},
     "output_type": "display_data"
    }
   ],
   "source": [
    "display(expr.subs(q, 10).evalf())\n",
    "display(expr.subs(q, -99).evalf())\n",
    "display(expr.subs(q, 12233).evalf())"
   ]
  },
  {
   "cell_type": "code",
   "execution_count": 10,
   "id": "422a07cf-1c9c-4f9e-a87e-76520aef9840",
   "metadata": {},
   "outputs": [
    {
     "data": {
      "text/latex": [
       "$\\displaystyle \\frac{\\sqrt{6}}{2}$"
      ],
      "text/plain": [
       "<IPython.core.display.Math object>"
      ]
     },
     "metadata": {},
     "output_type": "display_data"
    }
   ],
   "source": [
    "display(Math(sym.latex(sym.simplify(expr))))"
   ]
  },
  {
   "cell_type": "markdown",
   "id": "27ce2c88-a9fb-4c21-b314-14f068a25f0a",
   "metadata": {},
   "source": [
    "#### Expanding terms\n",
    "\n",
    "$a(b+c) = ab + ac$\n",
    "\n",
    "$(a+b)(c+d) = ac+ad+bc+bd$"
   ]
  },
  {
   "cell_type": "code",
   "execution_count": 11,
   "id": "7539bd77-48c5-4347-99da-198dfe95b564",
   "metadata": {},
   "outputs": [],
   "source": [
    "import sympy as sym\n",
    "from IPython.display import display, Math"
   ]
  },
  {
   "cell_type": "code",
   "execution_count": 12,
   "id": "2e1f8486-8527-4b12-832d-d5971ab21388",
   "metadata": {},
   "outputs": [
    {
     "data": {
      "text/latex": [
       "$\\displaystyle \\left(x - 7\\right) \\left(4 x + 5\\right)$"
      ],
      "text/plain": [
       "<IPython.core.display.Math object>"
      ]
     },
     "metadata": {},
     "output_type": "display_data"
    },
    {
     "data": {
      "text/latex": [
       "$\\displaystyle 4 x^{2} - 23 x - 35$"
      ],
      "text/plain": [
       "<IPython.core.display.Math object>"
      ]
     },
     "metadata": {},
     "output_type": "display_data"
    }
   ],
   "source": [
    "# x = sym.symbols('x')\n",
    "# other way of above\n",
    "from sympy.abc import x\n",
    "\n",
    "term1 = 4*x + 5\n",
    "term2 = x-7\n",
    "\n",
    "display(Math(sym.latex(term1*term2)))\n",
    "display(Math(sym.latex(sym.expand(term1*term2))))"
   ]
  },
  {
   "cell_type": "code",
   "execution_count": 13,
   "id": "772b7965-e272-456e-a08b-afe876d96357",
   "metadata": {},
   "outputs": [
    {
     "data": {
      "text/latex": [
       "$\\displaystyle x \\left(- \\frac{5^{x}}{x} + 2 y^{2}\\right)$"
      ],
      "text/plain": [
       "<IPython.core.display.Math object>"
      ]
     },
     "metadata": {},
     "output_type": "display_data"
    },
    {
     "data": {
      "text/latex": [
       "$\\displaystyle - 5^{x} + 2 x y^{2}$"
      ],
      "text/plain": [
       "<IPython.core.display.Math object>"
      ]
     },
     "metadata": {},
     "output_type": "display_data"
    }
   ],
   "source": [
    "from sympy.abc import y\n",
    "\n",
    "expr = x*(2*y**2 - 5**x/x)\n",
    "\n",
    "display(Math(sym.latex(expr)))\n",
    "display(Math(sym.latex(sym.expand(expr))))"
   ]
  },
  {
   "cell_type": "code",
   "execution_count": 14,
   "id": "32617989-cbfe-4891-a2db-eaccc0194a41",
   "metadata": {},
   "outputs": [
    {
     "name": "stdout",
     "output_type": "stream",
     "text": [
      "Variable   Type        Data/Info\n",
      "--------------------------------\n",
      "Math       type        <class 'IPython.core.display.Math'>\n",
      "display    function    <function display at 0x7fd9780200d0>\n",
      "expr       Mul         x*(-5**x/x + 2*y**2)\n",
      "i          int         1\n",
      "q          Symbol      q\n",
      "sol        list        n=2\n",
      "sym        module      <module 'sympy' from '/Us<...>kages/sympy/__init__.py'>\n",
      "term1      Add         4*x + 5\n",
      "term2      Add         x - 7\n",
      "x          Symbol      x\n",
      "y          Symbol      y\n"
     ]
    }
   ],
   "source": [
    "# print all variables \n",
    "%whos"
   ]
  },
  {
   "cell_type": "markdown",
   "id": "062a0b46-6653-491b-aa66-22d5336c61c9",
   "metadata": {},
   "source": [
    "##### Excersie\n",
    "###### expand and resolve\n",
    "\n",
    "$f(x, y) = (4+x)(2-y)$\n",
    "\n",
    "$x, y \\in \\{0, 1, 2\\}$\n",
    "\n",
    "expected result:\n",
    "\n",
    "$\\text{When }x=0 \\text{ and } y=0, f(x,y)=8$ \n",
    "\n",
    "$\\text{When }x=0 \\text{ and } y=1, f(x,y)=4$\n",
    "\n",
    "$\\text{When }x=0 \\text{ and } y=2, f(x,y)=0$\n",
    "\n",
    "$\\text{When }x=1 \\text{ and } y=0, f(x,y)=10$\n",
    "\n",
    "$\\text{When }x=1 \\text{ and } y=1, f(x,y)=5$\n",
    "\n",
    "$\\text{When }x=2 \\text{ and } y=0, f(x,y)=12$\n",
    "\n",
    "$\\text{When }x=2 \\text{ and } y=1, f(x,y)=6$\n",
    "\n",
    "$\\text{When }x=2 \\text{ and } y=2, f(x,y)=0$\n"
   ]
  },
  {
   "cell_type": "code",
   "execution_count": 15,
   "id": "13f92f77-2498-4dd5-9bbc-797465bdc0fb",
   "metadata": {},
   "outputs": [
    {
     "data": {
      "text/latex": [
       "$\\displaystyle \\left(2 - y\\right) \\left(x + 4\\right)$"
      ],
      "text/plain": [
       "<IPython.core.display.Math object>"
      ]
     },
     "metadata": {},
     "output_type": "display_data"
    },
    {
     "data": {
      "text/latex": [
       "$\\displaystyle - x y + 2 x - 4 y + 8$"
      ],
      "text/plain": [
       "<IPython.core.display.Math object>"
      ]
     },
     "metadata": {},
     "output_type": "display_data"
    },
    {
     "data": {
      "text/latex": [
       "$\\displaystyle \\text{When } x = 0 \\text{ and } y = 0\\text{, } f(x,y)=8$"
      ],
      "text/plain": [
       "<IPython.core.display.Math object>"
      ]
     },
     "metadata": {},
     "output_type": "display_data"
    },
    {
     "data": {
      "text/latex": [
       "$\\displaystyle \\text{When } x = 0 \\text{ and } y = 1\\text{, } f(x,y)=4$"
      ],
      "text/plain": [
       "<IPython.core.display.Math object>"
      ]
     },
     "metadata": {},
     "output_type": "display_data"
    },
    {
     "data": {
      "text/latex": [
       "$\\displaystyle \\text{When } x = 0 \\text{ and } y = 2\\text{, } f(x,y)=0$"
      ],
      "text/plain": [
       "<IPython.core.display.Math object>"
      ]
     },
     "metadata": {},
     "output_type": "display_data"
    },
    {
     "data": {
      "text/latex": [
       "$\\displaystyle \\text{When } x = 1 \\text{ and } y = 0\\text{, } f(x,y)=10$"
      ],
      "text/plain": [
       "<IPython.core.display.Math object>"
      ]
     },
     "metadata": {},
     "output_type": "display_data"
    },
    {
     "data": {
      "text/latex": [
       "$\\displaystyle \\text{When } x = 1 \\text{ and } y = 1\\text{, } f(x,y)=5$"
      ],
      "text/plain": [
       "<IPython.core.display.Math object>"
      ]
     },
     "metadata": {},
     "output_type": "display_data"
    },
    {
     "data": {
      "text/latex": [
       "$\\displaystyle \\text{When } x = 1 \\text{ and } y = 2\\text{, } f(x,y)=0$"
      ],
      "text/plain": [
       "<IPython.core.display.Math object>"
      ]
     },
     "metadata": {},
     "output_type": "display_data"
    },
    {
     "data": {
      "text/latex": [
       "$\\displaystyle \\text{When } x = 2 \\text{ and } y = 0\\text{, } f(x,y)=12$"
      ],
      "text/plain": [
       "<IPython.core.display.Math object>"
      ]
     },
     "metadata": {},
     "output_type": "display_data"
    },
    {
     "data": {
      "text/latex": [
       "$\\displaystyle \\text{When } x = 2 \\text{ and } y = 1\\text{, } f(x,y)=6$"
      ],
      "text/plain": [
       "<IPython.core.display.Math object>"
      ]
     },
     "metadata": {},
     "output_type": "display_data"
    },
    {
     "data": {
      "text/latex": [
       "$\\displaystyle \\text{When } x = 2 \\text{ and } y = 2\\text{, } f(x,y)=0$"
      ],
      "text/plain": [
       "<IPython.core.display.Math object>"
      ]
     },
     "metadata": {},
     "output_type": "display_data"
    }
   ],
   "source": [
    "import sympy as sym\n",
    "from IPython.display import display, Math\n",
    "\n",
    "x, y = sym.symbols('x, y')\n",
    "expr = (4+x)*(2-y)\n",
    "numrange = range(0, 3)\n",
    "\n",
    "display(Math(sym.latex(expr)))\n",
    "display(Math(sym.latex(sym.expand(expr))))\n",
    "\n",
    "for xi in numrange:\n",
    "    for yi in numrange:\n",
    "        res = expr.subs({x: xi, y: yi})\n",
    "        display(Math('\\\\text{When } x = %g \\\\text{ and } y = %g\\\\text{, } f(x,y)=%g' %(xi, yi, res)))\n",
    "        \n"
   ]
  },
  {
   "cell_type": "code",
   "execution_count": 16,
   "id": "87ff6828-7dc8-41c2-858c-ba237f1f5213",
   "metadata": {},
   "outputs": [
    {
     "data": {
      "text/latex": [
       "$\\displaystyle \\left[\\begin{matrix}1 & 2\\\\3 & 4\\end{matrix}\\right]$"
      ],
      "text/plain": [
       "<IPython.core.display.Math object>"
      ]
     },
     "metadata": {},
     "output_type": "display_data"
    },
    {
     "data": {
      "text/latex": [
       "$\\displaystyle \\left[\\begin{matrix}0.0 & 0.0 & 0.0 & 0.0 & 0.0 & 0.0\\\\0.0 & 0.0 & 0.0 & 0.0 & 0.0 & 0.0\\\\0.0 & 0.0 & 0.0 & 0.0 & 0.0 & 0.0\\\\0.0 & 0.0 & 0.0 & 0.0 & 0.0 & 0.0\\end{matrix}\\right]$"
      ],
      "text/plain": [
       "<IPython.core.display.Math object>"
      ]
     },
     "metadata": {},
     "output_type": "display_data"
    }
   ],
   "source": [
    "import sympy as sym\n",
    "import numpy as np\n",
    "from IPython.display import display, Math\n",
    "\n",
    "A = np.array([ [1,2],[3,4] ])\n",
    "display(Math(sym.latex(sym.sympify(A))))\n",
    "\n",
    "mat = np.zeros([4, 6])\n",
    "display(Math(sym.latex(sym.sympify(mat))))"
   ]
  },
  {
   "cell_type": "code",
   "execution_count": 17,
   "id": "34425941-74fb-4f2f-922d-70ff0ed1a4ef",
   "metadata": {},
   "outputs": [
    {
     "data": {
      "text/latex": [
       "$\\displaystyle \\left[\\begin{matrix}0.0 & 2.0 & 0.0 & 0.0 & 0.0 & 0.0\\\\0.0 & 0.0 & 0.0 & 0.0 & 0.0 & 0.0\\\\0.0 & 0.0 & 0.0 & 0.0 & 7.0 & 0.0\\\\0.0 & 0.0 & 0.0 & 0.0 & 0.0 & 0.0\\end{matrix}\\right]$"
      ],
      "text/plain": [
       "<IPython.core.display.Math object>"
      ]
     },
     "metadata": {},
     "output_type": "display_data"
    }
   ],
   "source": [
    "mat[0,1] = 2\n",
    "mat[2,4] = 7\n",
    "        \n",
    "display(Math(sym.latex(sym.sympify(mat))))"
   ]
  },
  {
   "cell_type": "code",
   "execution_count": 18,
   "id": "2f304d46-6bd5-47aa-8607-42a3386a361c",
   "metadata": {},
   "outputs": [
    {
     "data": {
      "text/latex": [
       "$\\displaystyle \\left[\\begin{matrix}1.0 & -1.0 & 1.0 & -1.0 & 0.0 & 0.0\\\\-1.0 & 1.0 & -1.0 & 1.0 & 0.0 & 0.0\\\\1.0 & -1.0 & 1.0 & -1.0 & 7.0 & 0.0\\\\-1.0 & 1.0 & -1.0 & 1.0 & 0.0 & 0.0\\end{matrix}\\right]$"
      ],
      "text/plain": [
       "<IPython.core.display.Math object>"
      ]
     },
     "metadata": {},
     "output_type": "display_data"
    }
   ],
   "source": [
    "numrange = range(0,4)\n",
    "\n",
    "for rowi in numrange:\n",
    "    for coli in numrange:\n",
    "        mat[rowi, coli] = (-1)**(rowi+coli)\n",
    "\n",
    "display(Math(sym.latex(sym.sympify(mat))))"
   ]
  },
  {
   "cell_type": "markdown",
   "id": "195d79c8-e6b2-408c-8a2e-74ad4d6108e0",
   "metadata": {},
   "source": [
    "##### Excersie\n",
    "###### expand and resolve\n",
    "\n",
    "$f(x, y) = (4+x)(2-y)$\n",
    "\n",
    "$x, y \\in \\{0, 1, 2\\}$\n",
    "\n",
    "expected result:\n",
    "\n",
    "$\n",
    "\\begin{bmatrix}\n",
    "8, 4, 0\\\\\n",
    "10, 5, 0\\\\\n",
    "12, 6, 0\n",
    "\\end{bmatrix}\n",
    "$\n"
   ]
  },
  {
   "cell_type": "code",
   "execution_count": 19,
   "id": "d51d765d-191c-44d7-96fe-74a60133cb23",
   "metadata": {},
   "outputs": [
    {
     "data": {
      "text/latex": [
       "$\\displaystyle \\left(2 - y\\right) \\left(x + 4\\right)$"
      ],
      "text/plain": [
       "<IPython.core.display.Math object>"
      ]
     },
     "metadata": {},
     "output_type": "display_data"
    },
    {
     "data": {
      "text/latex": [
       "$\\displaystyle - x y + 2 x - 4 y + 8$"
      ],
      "text/plain": [
       "<IPython.core.display.Math object>"
      ]
     },
     "metadata": {},
     "output_type": "display_data"
    },
    {
     "data": {
      "text/latex": [
       "$\\displaystyle \\left[\\begin{matrix}8 & 4 & 0\\\\10 & 5 & 0\\\\12 & 6 & 0\\end{matrix}\\right]$"
      ],
      "text/plain": [
       "<IPython.core.display.Math object>"
      ]
     },
     "metadata": {},
     "output_type": "display_data"
    }
   ],
   "source": [
    "from IPython.display import display, Math\n",
    "import sympy as sym\n",
    "import numpy as np\n",
    "\n",
    "x, y = sym.symbols('x, y')\n",
    "expr = (4+x)*(2-y)\n",
    "numrange = range(0, 3)\n",
    "mat = np.zeros([len(numrange), len(numrange)], dtype=int)\n",
    "\n",
    "display(Math(sym.latex(expr)))\n",
    "display(Math(sym.latex(sym.expand(expr))))\n",
    "\n",
    "for xi in numrange:\n",
    "    for yi in numrange:\n",
    "        res = expr.subs({x: xi, y: yi})\n",
    "        mat[xi][yi] = res\n",
    "\n",
    "display(Math(sym.latex(sym.sympify(mat))))"
   ]
  },
  {
   "cell_type": "markdown",
   "id": "9999e22c-c4ef-4e29-bd1a-75c358077a92",
   "metadata": {},
   "source": [
    "##### Associative, cummutative, distributive properties\n",
    "- the associative property\n",
    "\n",
    "    $\n",
    "    a(b\\times{c}) = (a\\times{b})c\\\\\n",
    "    a(bc) = (ab)c\\\\\n",
    "    abc = abc\n",
    "    $\n",
    "- the cummutative property\n",
    "\n",
    "    $\n",
    "    a\\times{b} = b\\times{b}\\\\\n",
    "    a\\times{b}\\times{c} = b\\times{a}\\times{c} = c\\times{a}\\times{b}\n",
    "    $\n",
    "- the distributive property\n",
    "\n",
    "    $x(y+z) = xy + xz$\n",
    "    \n",
    "##### Excercises\n",
    "\n",
    "- Implement expressions in Python\n",
    "- Display and simplify $f_{1}\\times{f_{2}}$\n",
    "- Show that the commutative property holds\n",
    "\n",
    "$\n",
    "f_{1}=x(y+z)\\\\\n",
    "f_{2}=\\frac{3}{x}+x^2\\\\\n",
    "x=\\omega(4-\\omega)+\\frac{1}{\\omega^{2}}(1+\\omega)\n",
    "$\n",
    "\n"
   ]
  },
  {
   "cell_type": "code",
   "execution_count": 20,
   "id": "842398ab-e4d7-40b3-9672-de858e2fa5ee",
   "metadata": {},
   "outputs": [
    {
     "data": {
      "text/latex": [
       "$\\displaystyle x = w \\left(4 - w\\right) + \\frac{w + 1}{w^{2}}$"
      ],
      "text/plain": [
       "<IPython.core.display.Math object>"
      ]
     },
     "metadata": {},
     "output_type": "display_data"
    },
    {
     "data": {
      "text/latex": [
       "$\\displaystyle f_{1} = \\left(y + z\\right) \\left(w \\left(4 - w\\right) + \\frac{w + 1}{w^{2}}\\right)$"
      ],
      "text/plain": [
       "<IPython.core.display.Math object>"
      ]
     },
     "metadata": {},
     "output_type": "display_data"
    },
    {
     "data": {
      "text/latex": [
       "$\\displaystyle f_{2} = \\left(w \\left(4 - w\\right) + \\frac{w + 1}{w^{2}}\\right)^{2} + \\frac{3}{w \\left(4 - w\\right) + \\frac{w + 1}{w^{2}}}$"
      ],
      "text/plain": [
       "<IPython.core.display.Math object>"
      ]
     },
     "metadata": {},
     "output_type": "display_data"
    },
    {
     "data": {
      "text/latex": [
       "$\\displaystyle f_{1}\\times{f_{2}} = \\left(y + z\\right) \\left(w \\left(4 - w\\right) + \\frac{w + 1}{w^{2}}\\right) \\left(\\left(w \\left(4 - w\\right) + \\frac{w + 1}{w^{2}}\\right)^{2} + \\frac{3}{w \\left(4 - w\\right) + \\frac{w + 1}{w^{2}}}\\right)$"
      ],
      "text/plain": [
       "<IPython.core.display.Math object>"
      ]
     },
     "metadata": {},
     "output_type": "display_data"
    },
    {
     "data": {
      "text/latex": [
       "$\\displaystyle \\frac{\\left(3 w^{6} + \\left(- w^{3} \\left(w - 4\\right) + w + 1\\right)^{3}\\right) \\left(y + z\\right)}{w^{6}}$"
      ],
      "text/plain": [
       "<IPython.core.display.Math object>"
      ]
     },
     "metadata": {},
     "output_type": "display_data"
    },
    {
     "data": {
      "text/latex": [
       "$\\displaystyle 0$"
      ],
      "text/plain": [
       "<IPython.core.display.Math object>"
      ]
     },
     "metadata": {},
     "output_type": "display_data"
    }
   ],
   "source": [
    "from IPython.display import display, Math\n",
    "import sympy as sym\n",
    "\n",
    "x, y, z, w = sym.symbols('x y z w')\n",
    "\n",
    "x = w*(4-w) + 1/w**2 * (1+w) \n",
    "fun_1 = x*(y+z)\n",
    "fun_2 = 3/x+x**2\n",
    "\n",
    "display(Math('x = %s' %sym.latex(x)))\n",
    "display(Math('f_{1} = %s' %sym.latex(fun_1)))\n",
    "display(Math('f_{2} = %s' %sym.latex(fun_2)))\n",
    "display(Math('f_{1}\\\\times{f_{2}} = %s' %sym.latex(fun_1*fun_2)))\n",
    "\n",
    "display(Math(sym.latex(sym.simplify(fun_1*fun_2))))\n",
    "\n",
    "display(Math(sym.latex(sym.simplify(fun_1*fun_2-fun_2*fun_1))))\n",
    "\n"
   ]
  },
  {
   "cell_type": "markdown",
   "id": "296007cb-ac1e-44de-b3be-b6828a29e50d",
   "metadata": {},
   "source": [
    "##### Excercise\n",
    "- Ilustrate the following property using symbolic variables, then show an exaple with numbers\n",
    "\n",
    "$gcd(ca, cb) = cgcd(a, b)$\n",
    "\n",
    "- Create a matric that contains 10 rows and 15 columns, where each element is equal to 99, then populate the matrix such that the i<sup>th</sup> row and j<sup>th</sup>\n",
    "column contains gcd(i+1, j+1).\n"
   ]
  },
  {
   "cell_type": "code",
   "execution_count": 26,
   "id": "fd1ccd2a-7c9e-4f1b-97c0-faee5ad57360",
   "metadata": {},
   "outputs": [],
   "source": [
    "import math\n",
    "from IPython.display import display, Math\n",
    "import sympy as sym\n",
    "import numpy as np"
   ]
  },
  {
   "cell_type": "code",
   "execution_count": 35,
   "id": "0ea6eda9-40d4-4d6e-a24b-8d391382b6ce",
   "metadata": {},
   "outputs": [
    {
     "name": "stdout",
     "output_type": "stream",
     "text": [
      "c\n",
      "c\n",
      "9\n",
      "9\n"
     ]
    },
    {
     "data": {
      "text/latex": [
       "$\\displaystyle \\left[\\begin{array}99 & 99 & 99 & 99 & 99 & 99 & 99 & 99 & 99 & 99 & 99 & 99 & 99 & 99 & 99\\\\99 & 99 & 99 & 99 & 99 & 99 & 99 & 99 & 99 & 99 & 99 & 99 & 99 & 99 & 99\\\\99 & 99 & 99 & 99 & 99 & 99 & 99 & 99 & 99 & 99 & 99 & 99 & 99 & 99 & 99\\\\99 & 99 & 99 & 99 & 99 & 99 & 99 & 99 & 99 & 99 & 99 & 99 & 99 & 99 & 99\\\\99 & 99 & 99 & 99 & 99 & 99 & 99 & 99 & 99 & 99 & 99 & 99 & 99 & 99 & 99\\\\99 & 99 & 99 & 99 & 99 & 99 & 99 & 99 & 99 & 99 & 99 & 99 & 99 & 99 & 99\\\\99 & 99 & 99 & 99 & 99 & 99 & 99 & 99 & 99 & 99 & 99 & 99 & 99 & 99 & 99\\\\99 & 99 & 99 & 99 & 99 & 99 & 99 & 99 & 99 & 99 & 99 & 99 & 99 & 99 & 99\\\\99 & 99 & 99 & 99 & 99 & 99 & 99 & 99 & 99 & 99 & 99 & 99 & 99 & 99 & 99\\\\99 & 99 & 99 & 99 & 99 & 99 & 99 & 99 & 99 & 99 & 99 & 99 & 99 & 99 & 99\\end{array}\\right]$"
      ],
      "text/plain": [
       "<IPython.core.display.Math object>"
      ]
     },
     "metadata": {},
     "output_type": "display_data"
    },
    {
     "data": {
      "text/latex": [
       "$\\displaystyle \\left[\\begin{array}0 & 1 & 2 & 3 & 4 & 5 & 6 & 7 & 8 & 9 & 10 & 11 & 12 & 13 & 14\\\\1 & 1 & 1 & 1 & 1 & 1 & 1 & 1 & 1 & 1 & 1 & 1 & 1 & 1 & 1\\\\2 & 1 & 2 & 1 & 2 & 1 & 2 & 1 & 2 & 1 & 2 & 1 & 2 & 1 & 2\\\\3 & 1 & 1 & 3 & 1 & 1 & 3 & 1 & 1 & 3 & 1 & 1 & 3 & 1 & 1\\\\4 & 1 & 2 & 1 & 4 & 1 & 2 & 1 & 4 & 1 & 2 & 1 & 4 & 1 & 2\\\\5 & 1 & 1 & 1 & 1 & 5 & 1 & 1 & 1 & 1 & 5 & 1 & 1 & 1 & 1\\\\6 & 1 & 2 & 3 & 2 & 1 & 6 & 1 & 2 & 3 & 2 & 1 & 6 & 1 & 2\\\\7 & 1 & 1 & 1 & 1 & 1 & 1 & 7 & 1 & 1 & 1 & 1 & 1 & 1 & 7\\\\8 & 1 & 2 & 1 & 4 & 1 & 2 & 1 & 8 & 1 & 2 & 1 & 4 & 1 & 2\\\\9 & 1 & 1 & 3 & 1 & 1 & 3 & 1 & 1 & 9 & 1 & 1 & 3 & 1 & 1\\end{array}\\right]$"
      ],
      "text/plain": [
       "<IPython.core.display.Math object>"
      ]
     },
     "metadata": {},
     "output_type": "display_data"
    }
   ],
   "source": [
    "a, b, c = sym.symbols('a, b, c')\n",
    "\n",
    "print( sym.gcd(a*c, b*c) )\n",
    "print( c*sym.gcd(a, b) )\n",
    "\n",
    "a, b, c = 15, 6, 3\n",
    "\n",
    "print( math.gcd(a*c, b*c) )\n",
    "print( c*math.gcd(a, b) )\n",
    "\n",
    "\n",
    "n, m = 10, 15\n",
    "mat = np.zeros([n, m], dtype=int)+99\n",
    "display(Math(sym.latex(sym.sympify(mat))))\n",
    "\n",
    "for rowi in range(0, n):\n",
    "    for coli in range(0, m):\n",
    "        mat[rowi, coli] = math.gcd(rowi, coli)\n",
    "    \n",
    "display(Math(sym.latex(sym.sympify(mat))))\n"
   ]
  },
  {
   "cell_type": "code",
   "execution_count": 60,
   "id": "3e013d2e-6afe-417f-99fd-f9c7f8db1959",
   "metadata": {},
   "outputs": [
    {
     "data": {
      "text/plain": [
       "[2, 37]"
      ]
     },
     "execution_count": 60,
     "metadata": {},
     "output_type": "execute_result"
    }
   ],
   "source": [
    "import sympy as sym\n",
    "\n",
    "number = 74 \n",
    "\n",
    "fact_dict = sym.factorint(number)\n",
    "\n",
    "list(fact_dict.keys())"
   ]
  },
  {
   "cell_type": "markdown",
   "id": "55fc1151-8dc1-4a9d-a8e3-ab29af6178dc",
   "metadata": {},
   "source": [
    "##### Excercises\n",
    "\n",
    "- Loop through integers form 2 through 25.\n",
    "- Use functions factorint, list, len, if/else, print\n",
    "\n",
    "###### Expected result:\n",
    "```\n",
    "2 is prime number\n",
    "3 is prime number\n",
    "4 is a composite number with prime factors [2]\n",
    "...\n",
    "```"
   ]
  },
  {
   "cell_type": "code",
   "execution_count": null,
   "id": "1c134187-5f7f-47d8-849e-b3dcb32f6de3",
   "metadata": {},
   "outputs": [],
   "source": [
    "import sympy as sym\n",
    "\n",
    "for n in range(2, 26):\n",
    "    fact_dict = sym.factorint(n)\n",
    "    prime_factors = list(fact_dict.keys())\n",
    "    if len(prime_factors) == 1 and fact_dict[prime_factors[0]] == 1:\n",
    "        print(f'{n} is a prime number')\n",
    "    else:\n",
    "        print(f'{n} is a composite number with prime factors {prime_factors}')"
   ]
  },
  {
   "cell_type": "code",
   "execution_count": 96,
   "id": "950726ca-d0fe-40a4-8b88-152bc3421ef5",
   "metadata": {},
   "outputs": [
    {
     "data": {
      "text/latex": [
       "$\\displaystyle 2 < x \\wedge x < \\infty$"
      ],
      "text/plain": [
       "<IPython.core.display.Math object>"
      ]
     },
     "metadata": {},
     "output_type": "display_data"
    },
    {
     "data": {
      "text/latex": [
       "$\\displaystyle \\text{True}$"
      ],
      "text/plain": [
       "True"
      ]
     },
     "execution_count": 96,
     "metadata": {},
     "output_type": "execute_result"
    }
   ],
   "source": [
    "import sympy as sym\n",
    "from IPython.display import display, Math\n",
    "\n",
    "x = sym.symbols('x')\n",
    "\n",
    "expr1 = 4*x > 8\n",
    "display(Math((sym.latex(sym.solve(expr1)))))\n",
    "\n",
    "#infinity symbol\n",
    "sym.oo > 900000\n"
   ]
  },
  {
   "cell_type": "code",
   "execution_count": 97,
   "id": "6e5801fe-8d7a-4bfc-ac52-05e7f6a720d7",
   "metadata": {},
   "outputs": [
    {
     "data": {
      "text/latex": [
       "$\\displaystyle \\left(-\\infty < x \\wedge x < -3\\right) \\vee \\left(1 < x \\wedge x < \\infty\\right)$"
      ],
      "text/plain": [
       "<IPython.core.display.Math object>"
      ]
     },
     "metadata": {},
     "output_type": "display_data"
    }
   ],
   "source": [
    "expr2 = (x-1)*(x+3) > 0\n",
    "display(Math(sym.latex(sym.solve(expr2))))"
   ]
  },
  {
   "cell_type": "markdown",
   "id": "585ffbac-b973-43a8-a110-977ebbdbb3eb",
   "metadata": {},
   "source": [
    "##### Excercise\n",
    "\n",
    " - solve inequality\n",
    "\n",
    "$ \\frac{3x}{2} + \\frac{4-5x}{3} \\leq 2 - \\frac{5(2-x)}{4} $\n"
   ]
  },
  {
   "cell_type": "code",
   "execution_count": 15,
   "id": "95220ef8-2e0a-4b6d-a8f8-d86b2f9c44c3",
   "metadata": {},
   "outputs": [
    {
     "data": {
      "text/latex": [
       "$\\displaystyle \\frac{4}{3} - \\frac{x}{6} \\leq \\frac{5 x}{4} - \\frac{1}{2}$"
      ],
      "text/plain": [
       "<IPython.core.display.Math object>"
      ]
     },
     "metadata": {},
     "output_type": "display_data"
    },
    {
     "data": {
      "text/latex": [
       "$\\displaystyle \\frac{22}{17} \\leq x \\wedge x < \\infty$"
      ],
      "text/plain": [
       "(22/17 <= x) & (x < oo)"
      ]
     },
     "execution_count": 15,
     "metadata": {},
     "output_type": "execute_result"
    }
   ],
   "source": [
    "from IPython.display import display, Math\n",
    "import sympy as sym\n",
    "\n",
    "x = sym.symbols('x')\n",
    "expr = 3*x/2 + (4-5*x)/3 <= 2 - (5*(2-x))/4\n",
    "\n",
    "display(Math(sym.latex(expr)))\n",
    "sym.solve(expr, x)"
   ]
  },
  {
   "cell_type": "code",
   "execution_count": 20,
   "id": "d71f9ee2-a898-4fc5-9535-7d06acedd169",
   "metadata": {},
   "outputs": [
    {
     "data": {
      "text/latex": [
       "$\\displaystyle 2 x^{3} + x^{2} - x$"
      ],
      "text/plain": [
       "<IPython.core.display.Math object>"
      ]
     },
     "metadata": {},
     "output_type": "display_data"
    },
    {
     "data": {
      "text/latex": [
       "$\\displaystyle - x^{4} + x^{3} - 4 x^{2}$"
      ],
      "text/plain": [
       "<IPython.core.display.Math object>"
      ]
     },
     "metadata": {},
     "output_type": "display_data"
    },
    {
     "data": {
      "text/latex": [
       "$\\displaystyle (2 x^{3} + x^{2} - x) - (- x^{4} + x^{3} - 4 x^{2}) = - x^{4} + 3 x^{3} - 3 x^{2} - x$"
      ],
      "text/plain": [
       "<IPython.core.display.Math object>"
      ]
     },
     "metadata": {},
     "output_type": "display_data"
    }
   ],
   "source": [
    "# polynomials\n",
    "x = sym.symbols('x')\n",
    "\n",
    "p1 = 2*x**3 + x**2-x\n",
    "p2 = x**3 - x**4 - 4*x**2\n",
    "\n",
    "display(Math(sym.latex(p1)))\n",
    "display(Math(sym.latex(p2)))\n",
    "display(Math('(%s) - (%s) = %s' %(sym.latex(p1), sym.latex(p2), sym.latex(p1+p2))))\n"
   ]
  },
  {
   "cell_type": "code",
   "execution_count": 25,
   "id": "b3db8843-90d3-4c13-805c-f72005c4c446",
   "metadata": {},
   "outputs": [
    {
     "name": "stdout",
     "output_type": "stream",
     "text": [
      "<class 'sympy.polys.polytools.Poly'>\n",
      "Poly(2*x**3 + x**2 - x, x, domain='ZZ')\n",
      "[2, 1, -1]\n"
     ]
    }
   ],
   "source": [
    "p3 = sym.Poly(2*x**3 + x**2 -x)\n",
    "\n",
    "print(type(p3))\n",
    "print(p3)\n",
    "print(p3.coeffs())"
   ]
  },
  {
   "cell_type": "markdown",
   "id": "ae1cb3fa-2e79-4f76-8908-b80324a3b7a5",
   "metadata": {},
   "source": [
    "##### Excercise\n",
    "\n",
    "- Implement these polynomials as a Python list.\n",
    "$\n",
    "x^2 + 2x \\\\\n",
    "-x^3 + 4x \\\\\n",
    "x^5 - x^4 + x/4 + 4 \\\\\n",
    "$\n",
    "- For each polynomial:\n",
    "    - if the dgree is even, sum the coefficients\n",
    "    - if the dgree is odd, count the coefficients\n"
   ]
  },
  {
   "cell_type": "code",
   "execution_count": 26,
   "id": "94848098-2a37-47c9-b32c-aa37527d3e47",
   "metadata": {},
   "outputs": [],
   "source": [
    "import sympy as sym\n",
    "from IPython.display import display, Math"
   ]
  },
  {
   "cell_type": "code",
   "execution_count": 2,
   "id": "807754b6-3797-44ff-8adb-a7308fdec2fa",
   "metadata": {},
   "outputs": [
    {
     "name": "stdout",
     "output_type": "stream",
     "text": [
      "3\n",
      "2\n",
      "4\n"
     ]
    }
   ],
   "source": [
    "p1 = sym.Poly(x**2 + 2*x)\n",
    "p2 = sym.Poly(-x**3 + 4*x)\n",
    "p3 = sym.Poly(x**5 - x**4 + x/4 + 4)\n",
    "\n",
    "p_list = [p1, p2, p3]\n",
    "\n",
    "for poli in p_list:\n",
    "    if poli.degree()%2 == 0:\n",
    "        print(sum(poli.coeffs()))\n",
    "    else:\n",
    "        print(len(poli.coeffs()))"
   ]
  },
  {
   "cell_type": "markdown",
   "id": "67628c9e-ac3b-4479-b9f9-5b0894e66a65",
   "metadata": {},
   "source": [
    "###### Rule of multiplicatoin with exponents\n",
    "\n",
    "$ \n",
    "y^a \\times x^a \\times x^b = y^a \\times x^{a+b} \\\\\n",
    "(x^5 + 2xy + y^2)(x - 3xy) = x^6 - 3x^6y + 2x^2y - 6x^2y^2 + xy^2 - 3xy^3\n",
    "$\n",
    "\n",
    "##### Excercise\n",
    "- Implement  this polynomials\n",
    "$\n",
    "f(x, y) = 4x^4 - 3x^2 + xy^2 - 9y^3 \\\\\n",
    "g(x, y) = -x^3 + 6x^2y + .8y^3 \\\\\n",
    "$\n",
    "- Multiply the polynomials and then substitute $x=5 \\text{, }y=-2$\n",
    "- Substitute $x=5 \\text{, }y=-2$ into each polynomial, ten multiply"
   ]
  },
  {
   "cell_type": "code",
   "execution_count": 20,
   "id": "c13e1a06-14c5-4a8d-8c84-99dc60307a88",
   "metadata": {},
   "outputs": [
    {
     "data": {
      "text/latex": [
       "$\\displaystyle f(x,y) = 4 x^{4} - 3 x^{2} + x y^{2} - 9 y^{3}$"
      ],
      "text/plain": [
       "<IPython.core.display.Math object>"
      ]
     },
     "metadata": {},
     "output_type": "display_data"
    },
    {
     "data": {
      "text/latex": [
       "$\\displaystyle g(x,y) = - x^{3} + 6 x^{2} y + 0.8 y^{3}$"
      ],
      "text/plain": [
       "<IPython.core.display.Math object>"
      ]
     },
     "metadata": {},
     "output_type": "display_data"
    },
    {
     "data": {
      "text/latex": [
       "$\\displaystyle f(x,y) * g(x,y) \\rightarrow \\left(- x^{3} + 6 x^{2} y + 0.8 y^{3}\\right) \\left(4 x^{4} - 3 x^{2} + x y^{2} - 9 y^{3}\\right)$"
      ],
      "text/plain": [
       "<IPython.core.display.Math object>"
      ]
     },
     "metadata": {},
     "output_type": "display_data"
    },
    {
     "data": {
      "text/latex": [
       "$\\displaystyle (4 x^{4} - 3 x^{2} + x y^{2} - 9 y^{3}) \\times (- x^{3} + 6 x^{2} y + 0.8 y^{3}) = - 4 x^{7} + 24 x^{6} y + 3 x^{5} + 3.2 x^{4} y^{3} - x^{4} y^{2} - 18 x^{4} y + 15 x^{3} y^{3} - 54 x^{2} y^{4} - 2.4 x^{2} y^{3} + 0.8 x y^{5} - 7.2 y^{6} = -1085833.8$"
      ],
      "text/plain": [
       "<IPython.core.display.Math object>"
      ]
     },
     "metadata": {},
     "output_type": "display_data"
    },
    {
     "data": {
      "text/latex": [
       "$\\displaystyle (2517) \\times (-431.4) = -1085833.8$"
      ],
      "text/plain": [
       "<IPython.core.display.Math object>"
      ]
     },
     "metadata": {},
     "output_type": "display_data"
    },
    {
     "data": {
      "text/latex": [
       "$\\displaystyle -1085833.8$"
      ],
      "text/plain": [
       "<IPython.core.display.Math object>"
      ]
     },
     "metadata": {},
     "output_type": "display_data"
    },
    {
     "data": {
      "text/latex": [
       "$\\displaystyle -1085833.8$"
      ],
      "text/plain": [
       "<IPython.core.display.Math object>"
      ]
     },
     "metadata": {},
     "output_type": "display_data"
    }
   ],
   "source": [
    "import sympy as sym\n",
    "from IPython.display import display, Math\n",
    "\n",
    "x, y = sym.symbols('x, y')\n",
    "\n",
    "p1 = 4*x**4 - 3*x**2 + x*y**2 - 9*y**3\n",
    "p2 = -x**3 + 6*x**2*y + 0.8*y**3\n",
    "p3 = p1 * p2\n",
    "display(Math(\"f(x,y) = %s\" %sym.latex(p1)))\n",
    "display(Math(\"g(x,y) = %s\" %sym.latex(p2)))\n",
    "display(Math(\"f(x,y) * g(x,y) \\\\rightarrow %s\" %sym.latex(p1*p2)))\n",
    "res1 = p3.subs({x: 5, y: -2})\n",
    "display(Math(\"(%s) \\\\times (%s) = %s = %s\" %(sym.latex(p1), sym.latex(p2), sym.latex(sym.expand(p1*p2)), sym.latex(res1))))\n",
    "fxy = p1.subs({x: 5, y: -2})\n",
    "gxy = p2.subs({x: 5, y: -2})\n",
    "display(Math(\"(%s) \\\\times (%s) = %s\" %(sym.latex(fxy), sym.latex(gxy), sym.latex(sym.expand(fxy*gxy)))))\n",
    "\n",
    "display(Math(sym.latex(res1)))\n",
    "\n",
    "display(Math(sym.latex(fxy*gxy)))\n"
   ]
  },
  {
   "cell_type": "code",
   "execution_count": null,
   "id": "c8fd1d9f-7ab5-4b7d-88d9-2afb9fdc2e88",
   "metadata": {},
   "outputs": [],
   "source": []
  }
 ],
 "metadata": {
  "kernelspec": {
   "display_name": "Python 3 (ipykernel)",
   "language": "python",
   "name": "python3"
  },
  "language_info": {
   "codemirror_mode": {
    "name": "ipython",
    "version": 3
   },
   "file_extension": ".py",
   "mimetype": "text/x-python",
   "name": "python",
   "nbconvert_exporter": "python",
   "pygments_lexer": "ipython3",
   "version": "3.9.7"
  }
 },
 "nbformat": 4,
 "nbformat_minor": 5
}
