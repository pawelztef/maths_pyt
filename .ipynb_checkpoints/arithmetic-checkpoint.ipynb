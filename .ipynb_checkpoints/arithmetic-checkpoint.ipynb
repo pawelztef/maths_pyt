{
 "cells": [
  {
   "cell_type": "markdown",
   "id": "3156d438",
   "metadata": {},
   "source": [
    "##  9. using variables\n"
   ]
  },
  {
   "cell_type": "code",
   "execution_count": 1,
   "id": "c1b5a04a",
   "metadata": {},
   "outputs": [
    {
     "name": "stdout",
     "output_type": "stream",
     "text": [
      "630\n"
     ]
    },
    {
     "data": {
      "text/plain": [
       "-610"
      ]
     },
     "execution_count": 1,
     "metadata": {},
     "output_type": "execute_result"
    }
   ],
   "source": [
    "x = 10\n",
    "y = 20\n",
    "z = 31\n",
    "\n",
    "\n",
    "print( x + y * z)\n",
    "x - y * z"
   ]
  },
  {
   "cell_type": "markdown",
   "id": "e5c69cbe",
   "metadata": {},
   "source": [
    "## 10. Printing out equations \n",
    "### brief introductiont to LaTeX coding"
   ]
  },
  {
   "cell_type": "code",
   "execution_count": 2,
   "id": "b5899dd4",
   "metadata": {},
   "outputs": [
    {
     "data": {
      "text/plain": [
       "'4 + 3 = 7'"
      ]
     },
     "metadata": {},
     "output_type": "display_data"
    }
   ],
   "source": [
    "from IPython.display import display, Math\n",
    "\n",
    "display('4 + 3 = ' + str(4+3))"
   ]
  },
  {
   "cell_type": "code",
   "execution_count": 3,
   "id": "65e8214a",
   "metadata": {},
   "outputs": [
    {
     "data": {
      "text/latex": [
       "$\\displaystyle 4+3=7$"
      ],
      "text/plain": [
       "<IPython.core.display.Math object>"
      ]
     },
     "metadata": {},
     "output_type": "display_data"
    }
   ],
   "source": [
    "display(Math('4+3=7'))"
   ]
  },
  {
   "cell_type": "code",
   "execution_count": 4,
   "id": "e654c4f5",
   "metadata": {},
   "outputs": [
    {
     "data": {
      "text/latex": [
       "$\\displaystyle 4 + 3 = 7$"
      ],
      "text/plain": [
       "<IPython.core.display.Math object>"
      ]
     },
     "metadata": {},
     "output_type": "display_data"
    }
   ],
   "source": [
    "x = 4\n",
    "y = 3\n",
    "\n",
    "display(Math('%g + %g = %g' %(x, y, x+y)))"
   ]
  },
  {
   "cell_type": "code",
   "execution_count": 5,
   "id": "2d9f8cca",
   "metadata": {},
   "outputs": [
    {
     "data": {
      "text/latex": [
       "$\\displaystyle 4/5 = .8$"
      ],
      "text/plain": [
       "<IPython.core.display.Math object>"
      ]
     },
     "metadata": {},
     "output_type": "display_data"
    },
    {
     "data": {
      "text/latex": [
       "$\\displaystyle \\frac{4}{5} = .8$"
      ],
      "text/plain": [
       "<IPython.core.display.Math object>"
      ]
     },
     "metadata": {},
     "output_type": "display_data"
    }
   ],
   "source": [
    "display(Math('4/5 = .8'))\n",
    "display(Math('\\\\frac{4}{5} = .8'))"
   ]
  },
  {
   "cell_type": "code",
   "execution_count": 6,
   "id": "8ffc726b",
   "metadata": {},
   "outputs": [
    {
     "data": {
      "text/latex": [
       "$\\displaystyle 3.4 \\times 17 = 57.8$"
      ],
      "text/plain": [
       "<IPython.core.display.Math object>"
      ]
     },
     "metadata": {},
     "output_type": "display_data"
    }
   ],
   "source": [
    "x = 3.4\n",
    "y = 17\n",
    "\n",
    "display(Math('%g \\\\times %g = %g' %(x, y, x*y)))"
   ]
  },
  {
   "cell_type": "markdown",
   "id": "e4fd5d6b",
   "metadata": {},
   "source": [
    "### mathematical markdown\n",
    "$+$、$-$、$=$、$>$、$<$、$\\times$、$\\div$、$\\equiv$、$\\leq$、$\\geq$、$\\neq$  \n",
    "\n",
    "$\\cup$、$\\cap$、$\\in$、$\\notin$、$\\ni$、$\\subset$、$\\subseteq$、$\\supset$、$\\supseteq$、$\\infty$\n",
    "\n",
    "$f(x)=\\frac{P(x)}{Q(x)}$\n",
    "\n",
    "$\\sqrt{3x-1}+\\sqrt[5]{2y^5-4}$\n",
    "\n",
    "$\\cos (2\\theta) = \\cos^2 \\theta - \\sin^2 \\theta$\n",
    "\n",
    "$\\frac{x}{2y} +\\frac{x-y}{x+y} $\n",
    "\n",
    "$\\sum_{n=1}^\\infty k$\n",
    "\n",
    "$\\lim\\limits_{x \\to \\infty} \\exp(-x) = 0$\n",
    "\n",
    "$\n",
    "  \\begin{matrix}\n",
    "   1 & 2 & 3 \\\\\n",
    "   4 & 5 & 6 \\\\\n",
    "   7 & 8 & 9\n",
    "  \\end{matrix} \n",
    "$\n",
    "\n",
    "\n",
    "$\n",
    "X(m,n)=\n",
    "\\begin{cases}\n",
    "x(n),\\\\\n",
    "x(n-1)\\\\\n",
    "x(n-1)\n",
    "\\end{cases}\n",
    "$\n"
   ]
  },
  {
   "cell_type": "markdown",
   "id": "e044dc6f",
   "metadata": {},
   "source": [
    "## Exc.\n",
    "\n",
    "$x = 7,y = -2,z = 5$\n",
    "\n",
    "1. &nbsp;&nbsp; $3x(4+y)=42$\n",
    "\n",
    "2. &nbsp;&nbsp; $-y - \\frac{x+3}{z} = 0$"
   ]
  },
  {
   "cell_type": "code",
   "execution_count": 8,
   "id": "27e2e509",
   "metadata": {},
   "outputs": [
    {
     "data": {
      "text/latex": [
       "$\\displaystyle 3x(4+y) = 42$"
      ],
      "text/plain": [
       "<IPython.core.display.Math object>"
      ]
     },
     "metadata": {},
     "output_type": "display_data"
    },
    {
     "data": {
      "text/latex": [
       "$\\displaystyle 3\\times7(4+-2) = 42$"
      ],
      "text/plain": [
       "<IPython.core.display.Math object>"
      ]
     },
     "metadata": {},
     "output_type": "display_data"
    },
    {
     "name": "stdout",
     "output_type": "stream",
     "text": [
      "0.0\n"
     ]
    },
    {
     "data": {
      "text/latex": [
       "$\\displaystyle -y-\\frac{(x+3)}{z} = 0$"
      ],
      "text/plain": [
       "<IPython.core.display.Math object>"
      ]
     },
     "metadata": {},
     "output_type": "display_data"
    },
    {
     "data": {
      "text/latex": [
       "$\\displaystyle -2-\\frac{(7+3)}{5} = 0$"
      ],
      "text/plain": [
       "<IPython.core.display.Math object>"
      ]
     },
     "metadata": {},
     "output_type": "display_data"
    }
   ],
   "source": [
    "from IPython.display import display, Math\n",
    "\n",
    "x = 7\n",
    "y = -2 \n",
    "z = 5\n",
    "\n",
    "# first \n",
    "ans1 = 3*x*(4+y)\n",
    "display(Math('3x(4+y) = %g' %ans1))\n",
    "display(Math('3\\\\times%g(4+%g) = %g' %(x, y, ans1)))\n",
    "\n",
    "# second\n",
    "ans2 = -y - (x+3) / z\n",
    "print(ans2)\n",
    "\n",
    "display(Math('-y-\\\\frac{(x+3)}{z} = %g' %ans2))\n",
    "display(Math('%g-\\\\frac{(%g+3)}{%g} = %g' %(y, x, z, ans2)))\n"
   ]
  },
  {
   "cell_type": "markdown",
   "id": "9aa6d65d",
   "metadata": {},
   "source": [
    "## 12. Exponenets\n",
    "### refresh\n",
    "\n",
    "$3^2 = 3 \\times 3$\n",
    "\n",
    "$3^4 = 3 \\times 3 \\times 3 \\times 3 \\times 3$\n",
    "\n",
    "$3^2 \\times 3^4 = 3^{2+4} = 3 \\times 3 \\times 3 \\times 3 \\times 3 \\times 3$\n",
    "\n",
    "$3^2 \\times 3^4 = 3 \\times 3 \\times 4 \\times 4 \\times 4$\n",
    "\n",
    "$x^1 = x$\n",
    "\n",
    "## Exc."
   ]
  },
  {
   "cell_type": "code",
   "execution_count": 2,
   "id": "bff733ad",
   "metadata": {},
   "outputs": [
    {
     "data": {
      "text/latex": [
       "$\\displaystyle x^{3/4} \\times 4^y = 3933.09$"
      ],
      "text/plain": [
       "<IPython.core.display.Math object>"
      ]
     },
     "metadata": {},
     "output_type": "display_data"
    }
   ],
   "source": [
    "from IPython.display import display, Math\n",
    "\n",
    "x = 5\n",
    "y = 5.1\n",
    "\n",
    "ans = x**(3/4) * 4**y\n",
    "display(Math('x^{3/4} \\\\times 4^y = %g' %ans))\n"
   ]
  },
  {
   "cell_type": "code",
   "execution_count": 3,
   "id": "2c849dbc",
   "metadata": {},
   "outputs": [
    {
     "data": {
      "text/latex": [
       "$\\displaystyle \\frac{3^3 }{x^y} = 0.00735558$"
      ],
      "text/plain": [
       "<IPython.core.display.Math object>"
      ]
     },
     "metadata": {},
     "output_type": "display_data"
    }
   ],
   "source": [
    "ans = 3**3 / x**y\n",
    "display(Math('\\\\frac{3^3 }{x^y} = %g' %ans))"
   ]
  },
  {
   "cell_type": "code",
   "execution_count": 10,
   "id": "607aea1c",
   "metadata": {},
   "outputs": [
    {
     "data": {
      "text/latex": [
       "$\\displaystyle 10^{x-4} = 10$"
      ],
      "text/plain": [
       "<IPython.core.display.Math object>"
      ]
     },
     "metadata": {},
     "output_type": "display_data"
    }
   ],
   "source": [
    "ans = 10**(x-4)\n",
    "display(Math('10^{x-4} = %g' %ans))"
   ]
  },
  {
   "cell_type": "markdown",
   "id": "d1f4ef72",
   "metadata": {},
   "source": [
    "## 13. Using for-loops to compute powers"
   ]
  },
  {
   "cell_type": "markdown",
   "id": "7b13b91c",
   "metadata": {},
   "source": [
    "## Exc.\n",
    "print using loop:\n",
    "```\n",
    "2 to the power of 0 is 1\n",
    "2 to the power of 1 is 2\n",
    "2 to the power of 2 is 4\n",
    "2 to the power of 3 is 8\n",
    "2 to the power of 4 is 16\n",
    "2 to the power of 5 is 32\n",
    "2 to the power of 6 is 64\n",
    "2 to the power of 7 is 128\n",
    "2 to the power of 8 is 512\n",
    "```"
   ]
  },
  {
   "cell_type": "code",
   "execution_count": 21,
   "id": "fad9a866",
   "metadata": {},
   "outputs": [
    {
     "name": "stdout",
     "output_type": "stream",
     "text": [
      "2 to the power of 0 is 1\n",
      "2 to the power of 1 is 2\n",
      "2 to the power of 2 is 4\n",
      "2 to the power of 3 is 8\n",
      "2 to the power of 4 is 16\n",
      "2 to the power of 5 is 32\n",
      "2 to the power of 6 is 64\n",
      "2 to the power of 7 is 128\n",
      "2 to the power of 8 is 256\n",
      "2 to the power of 9 is 512\n"
     ]
    }
   ],
   "source": [
    "base = 2\n",
    "\n",
    "for exponent in range(0, 10):\n",
    "    res = base ** exponent \n",
    "    print(f'{base} to the power of {exponent} is {res}')"
   ]
  },
  {
   "cell_type": "markdown",
   "id": "6479ac97",
   "metadata": {},
   "source": [
    "## print using loop and decision statement:\n",
    "\n",
    "$1^{-1} = 1$\n",
    "\n",
    "$1^{-2} = 1$\n",
    "\n",
    "$1^{-3} = 1$\n",
    "\n",
    "$1^{-4} = 1$\n",
    "\n",
    "$2^{-1} = 0.5$\n",
    "\n",
    "$2^{-2} = 0.25$\n",
    "\n",
    "$2^{-3} = 0.125$\n",
    "\n",
    "$2^{-4} = 0.0625$\n",
    "\n",
    "$3^{-1} = 0.3333$\n",
    "\n",
    "$3^{-2} = 0.1111$\n",
    "\n",
    "$3^{-3} = 0.037037$\n",
    "\n",
    "$3^{-4} = 0.012345$"
   ]
  },
  {
   "cell_type": "code",
   "execution_count": 25,
   "id": "d6718aee",
   "metadata": {},
   "outputs": [
    {
     "data": {
      "text/latex": [
       "$\\displaystyle 1^{-1} = 1$"
      ],
      "text/plain": [
       "<IPython.core.display.Math object>"
      ]
     },
     "metadata": {},
     "output_type": "display_data"
    },
    {
     "data": {
      "text/latex": [
       "$\\displaystyle 1^{-2} = 1$"
      ],
      "text/plain": [
       "<IPython.core.display.Math object>"
      ]
     },
     "metadata": {},
     "output_type": "display_data"
    },
    {
     "data": {
      "text/latex": [
       "$\\displaystyle 1^{-3} = 1$"
      ],
      "text/plain": [
       "<IPython.core.display.Math object>"
      ]
     },
     "metadata": {},
     "output_type": "display_data"
    },
    {
     "data": {
      "text/latex": [
       "$\\displaystyle 1^{-4} = 1$"
      ],
      "text/plain": [
       "<IPython.core.display.Math object>"
      ]
     },
     "metadata": {},
     "output_type": "display_data"
    },
    {
     "data": {
      "text/latex": [
       "$\\displaystyle 1^{-5} = 1$"
      ],
      "text/plain": [
       "<IPython.core.display.Math object>"
      ]
     },
     "metadata": {},
     "output_type": "display_data"
    },
    {
     "data": {
      "text/latex": [
       "$\\displaystyle 2^{-1} = 0.5$"
      ],
      "text/plain": [
       "<IPython.core.display.Math object>"
      ]
     },
     "metadata": {},
     "output_type": "display_data"
    },
    {
     "data": {
      "text/latex": [
       "$\\displaystyle 2^{-2} = 0.25$"
      ],
      "text/plain": [
       "<IPython.core.display.Math object>"
      ]
     },
     "metadata": {},
     "output_type": "display_data"
    },
    {
     "data": {
      "text/latex": [
       "$\\displaystyle 2^{-3} = 0.125$"
      ],
      "text/plain": [
       "<IPython.core.display.Math object>"
      ]
     },
     "metadata": {},
     "output_type": "display_data"
    },
    {
     "data": {
      "text/latex": [
       "$\\displaystyle 2^{-4} = 0.0625$"
      ],
      "text/plain": [
       "<IPython.core.display.Math object>"
      ]
     },
     "metadata": {},
     "output_type": "display_data"
    },
    {
     "data": {
      "text/latex": [
       "$\\displaystyle 2^{-5} = 0.03125$"
      ],
      "text/plain": [
       "<IPython.core.display.Math object>"
      ]
     },
     "metadata": {},
     "output_type": "display_data"
    },
    {
     "data": {
      "text/latex": [
       "$\\displaystyle 3^{-1} = 0.333333$"
      ],
      "text/plain": [
       "<IPython.core.display.Math object>"
      ]
     },
     "metadata": {},
     "output_type": "display_data"
    },
    {
     "data": {
      "text/latex": [
       "$\\displaystyle 3^{-2} = 0.111111$"
      ],
      "text/plain": [
       "<IPython.core.display.Math object>"
      ]
     },
     "metadata": {},
     "output_type": "display_data"
    },
    {
     "data": {
      "text/latex": [
       "$\\displaystyle 3^{-3} = 0.037037$"
      ],
      "text/plain": [
       "<IPython.core.display.Math object>"
      ]
     },
     "metadata": {},
     "output_type": "display_data"
    },
    {
     "data": {
      "text/latex": [
       "$\\displaystyle 3^{-4} = 0.0123457$"
      ],
      "text/plain": [
       "<IPython.core.display.Math object>"
      ]
     },
     "metadata": {},
     "output_type": "display_data"
    },
    {
     "data": {
      "text/latex": [
       "$\\displaystyle 3^{-5} = 0.00411523$"
      ],
      "text/plain": [
       "<IPython.core.display.Math object>"
      ]
     },
     "metadata": {},
     "output_type": "display_data"
    }
   ],
   "source": [
    "from IPython.display import display, Math\n",
    "\n",
    "for i in range(4):\n",
    "    for j in range(6):\n",
    "        if i > 0 and j > 0:\n",
    "            res = i**(-j)\n",
    "            display(Math('%g^{-%g} = %g' %(i, j, res)))\n",
    "            "
   ]
  },
  {
   "cell_type": "markdown",
   "id": "32b33a97",
   "metadata": {},
   "source": [
    "## 17. Absolute value\n",
    "\n",
    "### explanation:\n",
    "\"Absolute value is the distance of the number to the origin of the number line\"\n",
    "\n",
    "### notation:\n",
    "$abs(x)$\n",
    "\n",
    "$\\lvert x \\rvert$\n",
    "\n",
    "### definition:\n",
    "For any real number x, the **absolute** value of ***x*** \n",
    "is denoted by $\\lvert x \\rvert$ (a vertical bar on each side of the quantity) or $abs(x)$ \n",
    "and is defined as\n",
    "\n",
    "$ \\left | x \\right | =\n",
    "\\left\\{\\begin{matrix}\n",
    "x, & \\text{if } x\\geq 0 \\\\ \n",
    "-x & \\text{if } x < 0\n",
    "\\end{matrix}\\right.$"
   ]
  },
  {
   "cell_type": "code",
   "execution_count": null,
   "id": "079721d1",
   "metadata": {},
   "outputs": [],
   "source": [
    "## Exc.\n",
    "Print the absolute value of each of a set of nubmers only if each number is < -5 or > 2\n",
    "Number set: -4, 6, -1, 43, -18, 2, 0"
   ]
  },
  {
   "cell_type": "code",
   "execution_count": 29,
   "id": "2cd86a78",
   "metadata": {},
   "outputs": [
    {
     "name": "stdout",
     "output_type": "stream",
     "text": [
      "Absolute value of 6 is 6\n",
      "Absolute value of 43 is 43\n",
      "Absolute value of -18 is 18\n"
     ]
    }
   ],
   "source": [
    "numbers = [-4, 6, -1, 43, -18, 2, 0]\n",
    "\n",
    "for number in numbers:\n",
    "    if number < -5 or number > 2:\n",
    "        print(f'Absolute value of {number} is {abs(number)}')\n"
   ]
  },
  {
   "cell_type": "markdown",
   "id": "f56fbcb5",
   "metadata": {},
   "source": [
    "## 18. Reminder after division (modulo division)\n",
    "In computing, the modulo operation returns the remainder or signed remainder of a division, after one number is divided by another (called the modulus of the operation).\n",
    "\n",
    "10/3 = 3 R1"
   ]
  },
  {
   "cell_type": "code",
   "execution_count": 40,
   "id": "a30c3dec",
   "metadata": {},
   "outputs": [
    {
     "name": "stdout",
     "output_type": "stream",
     "text": [
      "-5 is and odd  number\n",
      "-4 is and even number\n",
      "-3 is and odd  number\n",
      "-2 is and even number\n",
      "-1 is and odd  number\n",
      " 0 is and even number\n",
      " 1 is and odd  number\n",
      " 2 is and even number\n",
      " 3 is and odd  number\n",
      " 4 is and even number\n",
      " 5 is and odd  number\n"
     ]
    }
   ],
   "source": [
    "nums = range(-5, 6)\n",
    "for i in nums:\n",
    "    res = 'odd' if i%2 > 0 else 'even'\n",
    "    print(f'{i:>2} is and {res:<4} number')"
   ]
  },
  {
   "cell_type": "markdown",
   "id": "7b783ffe",
   "metadata": {},
   "source": [
    "## 19. Functions\n",
    "with input in ipynb"
   ]
  },
  {
   "cell_type": "code",
   "execution_count": 2,
   "id": "2f70f229-7cb8-4c9d-b2a9-f71dee7bf3eb",
   "metadata": {},
   "outputs": [
    {
     "name": "stdin",
     "output_type": "stream",
     "text": [
      "Input X 1\n",
      "Input Y 1\n"
     ]
    },
    {
     "data": {
      "text/latex": [
       "$\\displaystyle \\text{Press \"1\" to compute} 1^1 \\text{ or press \"2\" to compute}\\frac{1}{1}$"
      ],
      "text/plain": [
       "<IPython.core.display.Math object>"
      ]
     },
     "metadata": {},
     "output_type": "display_data"
    },
    {
     "name": "stdin",
     "output_type": "stream",
     "text": [
      " 2\n"
     ]
    },
    {
     "data": {
      "text/latex": [
       "$\\displaystyle \\frac{1}{1} = 1$"
      ],
      "text/plain": [
       "<IPython.core.display.Math object>"
      ]
     },
     "metadata": {},
     "output_type": "display_data"
    }
   ],
   "source": [
    "from IPython.display import display, Math\n",
    "\n",
    "\n",
    "def check_selection(usr_choice):\n",
    "    if usr_choice != 1 and usr_choice != 2:\n",
    "        print('Invalid selection!')\n",
    "        return True \n",
    "\n",
    "def exponent(x, y):\n",
    "    display(Math('%g^{%g} = %g' %(x, y, x**y)))\n",
    "\n",
    "def division(x, y):\n",
    "    display(Math('\\\\frac{%g}{%g} = %g' %(x, y, x/y)))\n",
    "\n",
    "def dispatch(user_choice, x, y):\n",
    "    func_map = {\n",
    "        1: exponent,\n",
    "        2: division,\n",
    "    }\n",
    "    return func_map[user_choice](x, y)\n",
    "\n",
    "def main():\n",
    "    var_x = float( input('Input X') )\n",
    "    var_y = float( input('Input Y') )\n",
    "    display(Math('\\\\text{Press \"1\" to compute} %g^%g \\\\text{ or press \"2\" to compute}\\\\frac{%g}{%g}' %(var_x, var_y, var_x, var_y)))\n",
    "    usr_choice = int(input(''))\n",
    "    if check_selection(usr_choice):\n",
    "        return\n",
    "    dispatch(usr_choice, var_x, var_y)\n",
    "    \n",
    "    \n",
    "    \n",
    "main()"
   ]
  }
 ],
 "metadata": {
  "kernelspec": {
   "display_name": "Python 3 (ipykernel)",
   "language": "python",
   "name": "python3"
  },
  "language_info": {
   "codemirror_mode": {
    "name": "ipython",
    "version": 3
   },
   "file_extension": ".py",
   "mimetype": "text/x-python",
   "name": "python",
   "nbconvert_exporter": "python",
   "pygments_lexer": "ipython3",
   "version": "3.9.7"
  }
 },
 "nbformat": 4,
 "nbformat_minor": 5
}
