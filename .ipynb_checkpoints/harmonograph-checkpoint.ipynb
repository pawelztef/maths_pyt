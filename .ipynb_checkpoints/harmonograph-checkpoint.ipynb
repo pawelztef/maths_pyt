{
 "cells": [
  {
   "cell_type": "markdown",
   "metadata": {},
   "source": [
    "### Test \n",
    "#### Harmonograph\n",
    "https://en.wikipedia.org/wiki/Harmonograph"
   ]
  },
  {
   "cell_type": "code",
   "execution_count": null,
   "metadata": {
    "tags": []
   },
   "outputs": [],
   "source": [
    "import numpy as np\n",
    "import matplotlib.pyplot as plt\n",
    "\n",
    "# leave these parameters as is\n",
    "n = 1000000\n",
    "t = np.logspace(np.log10(10), np.log10(500), n)\n",
    "\n",
    "\n",
    "# try change these parameters\n",
    "A = [ 1, 1, 1.5, 1.5]\n",
    "d = [ .004, .001, .002, .0015]\n",
    "f = [ 3, 1, 2, 2.5]\n",
    "\n",
    "# generate XY value pairs\n",
    "\n",
    "x = A[0]*np.sin(t*f[0])*np.exp(-d[0]*t) + A[1]*np.sin(t*f[1])*np.exp(-d[1]*t)\n",
    "y = A[2]*np.sin(t*f[2])*np.exp(-d[2]*t) + A[3]*np.sin(t*f[3])*np.exp(-d[3]*t)\n",
    "\n",
    "# plot them\n",
    "plt.plot(x, y, 'k', linewidth=.1)\n",
    "plt.axis('off')\n",
    "plt.show()\n"
   ]
  },
  {
   "cell_type": "code",
   "execution_count": null,
   "metadata": {},
   "outputs": [],
   "source": []
  }
 ],
 "metadata": {
  "kernelspec": {
   "display_name": "Python 3 (ipykernel)",
   "language": "python",
   "name": "python3"
  },
  "language_info": {
   "codemirror_mode": {
    "name": "ipython",
    "version": 3
   },
   "file_extension": ".py",
   "mimetype": "text/x-python",
   "name": "python",
   "nbconvert_exporter": "python",
   "pygments_lexer": "ipython3",
   "version": "3.9.7"
  }
 },
 "nbformat": 4,
 "nbformat_minor": 4
}
