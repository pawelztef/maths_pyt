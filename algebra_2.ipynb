{
 "cells": [
  {
   "cell_type": "markdown",
   "id": "22c91d04-6291-45d0-9eb7-f012ad2d21e4",
   "metadata": {},
   "source": [
    "#### Summation & Products\n",
    "representing summation\n",
    "\n",
    "$a = \\{1,3,4,1,6\\}\\\\\n",
    "1 + 3 + 4 + 1 + 6 = 15$\n",
    "\n",
    "$a_1 + a_2 + ... + a_n = \\sum_{n=1}^{n} a_i$\n",
    "\n",
    "_cumulative sum_\n",
    "\n",
    "$\n",
    "y_k = \\sum_{i=1}^{k} a_i\n",
    "\\begin{cases}\n",
    "y_1 = a_1 \\\\\n",
    "y_2 = a_1 + a_2 \\\\\n",
    "y_3 = a_1 + a_2 + a_3 \\\\\n",
    "... \\\\\n",
    "y_k = a_1 + a_2 + a_3 + ... + a_k \\\\\n",
    "\\end{cases}\n",
    "$\n",
    "\n",
    "representing products \n",
    "\n",
    "$a = \\{1,3,4,1,6\\}\\\\\n",
    "1 \\times 3 \\times 4 \\times 1 \\times 6 = 72$\n",
    "\n",
    "$a_1 \\times a_2 \\times ... \\times a_n = \\prod_{n=1}^{n} a_i$"
   ]
  },
  {
   "cell_type": "code",
   "execution_count": 10,
   "id": "1bef11eb-42e4-4709-9d8c-c95e12a1af80",
   "metadata": {},
   "outputs": [
    {
     "name": "stdout",
     "output_type": "stream",
     "text": [
      "15\n",
      "15\n",
      "[ 1  4  8  9 15]\n",
      "72\n"
     ]
    },
    {
     "data": {
      "text/plain": [
       "<matplotlib.legend.Legend at 0x7fdab1d0d250>"
      ]
     },
     "execution_count": 10,
     "metadata": {},
     "output_type": "execute_result"
    },
    {
     "data": {
      "image/png": "[encoded data removed]",
      "text/plain": [
       "<Figure size 432x288 with 1 Axes>"
      ]
     },
     "metadata": {
      "needs_background": "light"
     },
     "output_type": "display_data"
    }
   ],
   "source": [
    "import numpy as np\n",
    "import matplotlib.pyplot as plt\n",
    "\n",
    "lst = [1, 3, 4, 1, 6]\n",
    "\n",
    "# summation\n",
    "print(sum(lst))\n",
    "print(np.sum(lst))\n",
    "\n",
    "# cumulative sum\n",
    "print(np.cumsum(lst))\n",
    "\n",
    "#products\n",
    "print(np.prod(lst))\n",
    "\n",
    "plt.plot(lst, 'rs-')\n",
    "plt.plot(np.cumsum(lst), 'bo-')\n",
    "plt.legend(['set', 'cumulative sum'])"
   ]
  },
  {
   "cell_type": "markdown",
   "id": "f2bfdb51-3fdf-4179-a850-40794f3f8ad9",
   "metadata": {},
   "source": [
    "##### Excercises\n",
    "\n",
    "$ a = \\{1,2,3,4,5\\}$\n",
    "\n",
    "$\n",
    "\\frac{\\sum a}{\\sum a^2} = \\frac{1}{\\sum a} \\\\\n",
    "\\frac{\\prod a}{\\prod a^2} = \\frac{1}{\\prod a} \\\\\n",
    "$"
   ]
  },
  {
   "cell_type": "code",
   "execution_count": 20,
   "id": "7137fcbd-844d-4991-ac40-91bb14c05e9f",
   "metadata": {},
   "outputs": [
    {
     "name": "stdout",
     "output_type": "stream",
     "text": [
      "0.20606060606060606\n"
     ]
    }
   ],
   "source": [
    "import numpy as np\n",
    "\n",
    "arr = np.arange(1, 6)\n",
    "\n",
    "sum_arr = np.sum(arr)\n",
    "sum_arr2 = np.sum(arr**2)\n",
    "print((sum_arr/sum_arr2)-(1/sum_arr))\n",
    "\n",
    "\n",
    "\n"
   ]
  }
 ],
 "metadata": {
  "kernelspec": {
   "display_name": "Python 3 (ipykernel)",
   "language": "python",
   "name": "python3"
  },
  "language_info": {
   "codemirror_mode": {
    "name": "ipython",
    "version": 3
   },
   "file_extension": ".py",
   "mimetype": "text/x-python",
   "name": "python",
   "nbconvert_exporter": "python",
   "pygments_lexer": "ipython3",
   "version": "3.9.7"
  }
 },
 "nbformat": 4,
 "nbformat_minor": 5
}
