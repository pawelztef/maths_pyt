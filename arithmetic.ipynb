{
 "cells": [
  {
   "cell_type": "markdown",
   "id": "0d5caded-d31e-44a3-99e6-f4b825e29ec4",
   "metadata": {},
   "source": [
    "##  9. using variables\n"
   ]
  },
  {
   "cell_type": "code",
   "execution_count": 1,
   "id": "c0cb1d29-0ac8-4ea5-97dc-53914ac806f8",
   "metadata": {},
   "outputs": [
    {
     "name": "stdout",
     "output_type": "stream",
     "text": [
      "630\n"
     ]
    },
    {
     "data": {
      "text/plain": [
       "-610"
      ]
     },
     "execution_count": 1,
     "metadata": {},
     "output_type": "execute_result"
    }
   ],
   "source": [
    "x = 10\n",
    "y = 20\n",
    "z = 31\n",
    "\n",
    "\n",
    "print( x + y * z)\n",
    "x - y * z"
   ]
  },
  {
   "cell_type": "markdown",
   "id": "78bce63e-decc-4290-9478-839283002767",
   "metadata": {},
   "source": [
    "## 10. Printing out equations \n",
    "### brief introductiont to LaTeX coding"
   ]
  },
  {
   "cell_type": "code",
   "execution_count": 2,
   "id": "fbf1e9bd-36f7-41bf-801a-2889eead9c86",
   "metadata": {},
   "outputs": [
    {
     "data": {
      "text/plain": [
       "'4 + 3 = 7'"
      ]
     },
     "metadata": {},
     "output_type": "display_data"
    }
   ],
   "source": [
    "from IPython.display import display, Math\n",
    "\n",
    "display('4 + 3 = ' + str(4+3))"
   ]
  },
  {
   "cell_type": "code",
   "execution_count": 3,
   "id": "2c927520-6c24-4cfd-a903-a00b95cd1a91",
   "metadata": {},
   "outputs": [
    {
     "data": {
      "text/latex": [
       "$\\displaystyle 4+3=7$"
      ],
      "text/plain": [
       "<IPython.core.display.Math object>"
      ]
     },
     "metadata": {},
     "output_type": "display_data"
    }
   ],
   "source": [
    "display(Math('4+3=7'))"
   ]
  },
  {
   "cell_type": "code",
   "execution_count": 4,
   "id": "28e8ceef-8dd6-4f99-9665-c78f0586d936",
   "metadata": {},
   "outputs": [
    {
     "data": {
      "text/latex": [
       "$\\displaystyle 4 + 3 = 7$"
      ],
      "text/plain": [
       "<IPython.core.display.Math object>"
      ]
     },
     "metadata": {},
     "output_type": "display_data"
    }
   ],
   "source": [
    "x = 4\n",
    "y = 3\n",
    "\n",
    "display(Math('%g + %g = %g' %(x, y, x+y)))"
   ]
  },
  {
   "cell_type": "code",
   "execution_count": 5,
   "id": "3430db9e-41cd-44aa-ac1d-11eb9e799b57",
   "metadata": {},
   "outputs": [
    {
     "data": {
      "text/latex": [
       "$\\displaystyle 4/5 = .8$"
      ],
      "text/plain": [
       "<IPython.core.display.Math object>"
      ]
     },
     "metadata": {},
     "output_type": "display_data"
    },
    {
     "data": {
      "text/latex": [
       "$\\displaystyle \\frac{4}{5} = .8$"
      ],
      "text/plain": [
       "<IPython.core.display.Math object>"
      ]
     },
     "metadata": {},
     "output_type": "display_data"
    }
   ],
   "source": [
    "display(Math('4/5 = .8'))\n",
    "display(Math('\\\\frac{4}{5} = .8'))"
   ]
  },
  {
   "cell_type": "code",
   "execution_count": 6,
   "id": "cafbb2ae-74e6-4815-a006-d198476f3495",
   "metadata": {},
   "outputs": [
    {
     "data": {
      "text/latex": [
       "$\\displaystyle 3.4 \\times 17 = 57.8$"
      ],
      "text/plain": [
       "<IPython.core.display.Math object>"
      ]
     },
     "metadata": {},
     "output_type": "display_data"
    }
   ],
   "source": [
    "x = 3.4\n",
    "y = 17\n",
    "\n",
    "display(Math('%g \\\\times %g = %g' %(x, y, x*y)))"
   ]
  },
  {
   "cell_type": "markdown",
   "id": "ba9d17b7-4f12-4ddd-80b9-94b14fe1a17a",
   "metadata": {},
   "source": [
    "### mathematical markdown\n",
    "$+$、$-$、$=$、$>$、$<$、$\\times$、$\\div$、$\\equiv$、$\\leq$、$\\geq$、$\\neq$  \n",
    "\n",
    "$\\cup$、$\\cap$、$\\in$、$\\notin$、$\\ni$、$\\subset$、$\\subseteq$、$\\supset$、$\\supseteq$、$\\infty$\n",
    "\n",
    "$f(x)=\\frac{P(x)}{Q(x)}$\n",
    "\n",
    "$\\sqrt{3x-1}+\\sqrt[5]{2y^5-4}$\n",
    "\n",
    "$\\cos (2\\theta) = \\cos^2 \\theta - \\sin^2 \\theta$\n",
    "\n",
    "$\\frac{x}{2y} +\\frac{x-y}{x+y} $\n",
    "\n",
    "$\\sum_{n=1}^\\infty k$\n",
    "\n",
    "$\\lim\\limits_{x \\to \\infty} \\exp(-x) = 0$\n",
    "\n",
    "$\n",
    "  \\begin{matrix}\n",
    "   1 & 2 & 3 \\\\\n",
    "   4 & 5 & 6 \\\\\n",
    "   7 & 8 & 9\n",
    "  \\end{matrix} \n",
    "$\n",
    "\n",
    "\n",
    "$\n",
    "X(m,n)=\n",
    "\\begin{cases}\n",
    "x(n),\\\\\n",
    "x(n-1)\\\\\n",
    "x(n-1)\n",
    "\\end{cases}\n",
    "$\n"
   ]
  },
  {
   "cell_type": "markdown",
   "id": "94e55ad5-663b-419f-b41a-f90cc90126fb",
   "metadata": {},
   "source": [
    "## Exc.\n",
    "\n",
    "$x = 7,y = -2,z = 5$\n",
    "\n",
    "1. &nbsp;&nbsp; $3x(4+y)=42$\n",
    "\n",
    "2. &nbsp;&nbsp; $-y - \\frac{x+3}{z} = 0$"
   ]
  },
  {
   "cell_type": "code",
   "execution_count": 8,
   "id": "91ef85a1-c6a3-4192-8e6a-31c5eef2f4ab",
   "metadata": {},
   "outputs": [
    {
     "data": {
      "text/latex": [
       "$\\displaystyle 3x(4+y) = 42$"
      ],
      "text/plain": [
       "<IPython.core.display.Math object>"
      ]
     },
     "metadata": {},
     "output_type": "display_data"
    },
    {
     "data": {
      "text/latex": [
       "$\\displaystyle 3\\times7(4+-2) = 42$"
      ],
      "text/plain": [
       "<IPython.core.display.Math object>"
      ]
     },
     "metadata": {},
     "output_type": "display_data"
    },
    {
     "name": "stdout",
     "output_type": "stream",
     "text": [
      "0.0\n"
     ]
    },
    {
     "data": {
      "text/latex": [
       "$\\displaystyle -y-\\frac{(x+3)}{z} = 0$"
      ],
      "text/plain": [
       "<IPython.core.display.Math object>"
      ]
     },
     "metadata": {},
     "output_type": "display_data"
    },
    {
     "data": {
      "text/latex": [
       "$\\displaystyle -2-\\frac{(7+3)}{5} = 0$"
      ],
      "text/plain": [
       "<IPython.core.display.Math object>"
      ]
     },
     "metadata": {},
     "output_type": "display_data"
    }
   ],
   "source": [
    "from IPython.display import display, Math\n",
    "\n",
    "x = 7\n",
    "y = -2 \n",
    "z = 5\n",
    "\n",
    "# first \n",
    "ans1 = 3*x*(4+y)\n",
    "display(Math('3x(4+y) = %g' %ans1))\n",
    "display(Math('3\\\\times%g(4+%g) = %g' %(x, y, ans1)))\n",
    "\n",
    "# second\n",
    "ans2 = -y - (x+3) / z\n",
    "print(ans2)\n",
    "\n",
    "display(Math('-y-\\\\frac{(x+3)}{z} = %g' %ans2))\n",
    "display(Math('%g-\\\\frac{(%g+3)}{%g} = %g' %(y, x, z, ans2)))\n"
   ]
  },
  {
   "cell_type": "markdown",
   "id": "ec5ccf95-5478-4327-832f-529250b074ff",
   "metadata": {},
   "source": [
    "## 12. Exponenets\n",
    "### refresh\n",
    "\n",
    "$3^2 = 3 \\times 3$\n",
    "\n",
    "$3^4 = 3 \\times 3 \\times 3 \\times 3 \\times 3$\n",
    "\n",
    "$3^2 \\times 3^4 = 3^{2+4} = 3 \\times 3 \\times 3 \\times 3 \\times 3 \\times 3$\n",
    "\n",
    "$3^2 \\times 3^4 = 3 \\times 3 \\times 4 \\times 4 \\times 4$\n",
    "\n",
    "$x^1 = x$\n",
    "\n",
    "## Exc."
   ]
  },
  {
   "cell_type": "code",
   "execution_count": 2,
   "id": "99ef09e1-daef-4e44-89af-e41c3579faa9",
   "metadata": {},
   "outputs": [
    {
     "data": {
      "text/latex": [
       "$\\displaystyle x^{3/4} \\times 4^y = 3933.09$"
      ],
      "text/plain": [
       "<IPython.core.display.Math object>"
      ]
     },
     "metadata": {},
     "output_type": "display_data"
    }
   ],
   "source": [
    "from IPython.display import display, Math\n",
    "\n",
    "x = 5\n",
    "y = 5.1\n",
    "\n",
    "ans = x**(3/4) * 4**y\n",
    "display(Math('x^{3/4} \\\\times 4^y = %g' %ans))\n"
   ]
  },
  {
   "cell_type": "code",
   "execution_count": 3,
   "id": "fec99f7f-5efe-4d00-98e7-158f46a4dd65",
   "metadata": {},
   "outputs": [
    {
     "data": {
      "text/latex": [
       "$\\displaystyle \\frac{3^3 }{x^y} = 0.00735558$"
      ],
      "text/plain": [
       "<IPython.core.display.Math object>"
      ]
     },
     "metadata": {},
     "output_type": "display_data"
    }
   ],
   "source": [
    "ans = 3**3 / x**y\n",
    "display(Math('\\\\frac{3^3 }{x^y} = %g' %ans))"
   ]
  },
  {
   "cell_type": "code",
   "execution_count": 10,
   "id": "54930dd1-da46-47f5-93b3-2a1055ef0091",
   "metadata": {},
   "outputs": [
    {
     "data": {
      "text/latex": [
       "$\\displaystyle 10^{x-4} = 10$"
      ],
      "text/plain": [
       "<IPython.core.display.Math object>"
      ]
     },
     "metadata": {},
     "output_type": "display_data"
    }
   ],
   "source": [
    "ans = 10**(x-4)\n",
    "display(Math('10^{x-4} = %g' %ans))"
   ]
  },
  {
   "cell_type": "markdown",
   "id": "cefdb0b6-13d0-4201-b784-cfd6d8268313",
   "metadata": {},
   "source": [
    "## 13. Using for-loops to compute powers"
   ]
  },
  {
   "cell_type": "markdown",
   "id": "057a0984-4c13-4cd6-a879-2df3f31f225d",
   "metadata": {},
   "source": [
    "## Exc.\n",
    "print using loop:\n",
    "```\n",
    "2 to the power of 0 is 1\n",
    "2 to the power of 1 is 2\n",
    "2 to the power of 2 is 4\n",
    "2 to the power of 3 is 8\n",
    "2 to the power of 4 is 16\n",
    "2 to the power of 5 is 32\n",
    "2 to the power of 6 is 64\n",
    "2 to the power of 7 is 128\n",
    "2 to the power of 8 is 512\n",
    "```"
   ]
  },
  {
   "cell_type": "code",
   "execution_count": 21,
   "id": "1ca3b702-c56d-4a48-812d-6d2fd2b1fa01",
   "metadata": {},
   "outputs": [
    {
     "name": "stdout",
     "output_type": "stream",
     "text": [
      "2 to the power of 0 is 1\n",
      "2 to the power of 1 is 2\n",
      "2 to the power of 2 is 4\n",
      "2 to the power of 3 is 8\n",
      "2 to the power of 4 is 16\n",
      "2 to the power of 5 is 32\n",
      "2 to the power of 6 is 64\n",
      "2 to the power of 7 is 128\n",
      "2 to the power of 8 is 256\n",
      "2 to the power of 9 is 512\n"
     ]
    }
   ],
   "source": [
    "base = 2\n",
    "\n",
    "for exponent in range(0, 10):\n",
    "    res = base ** exponent \n",
    "    print(f'{base} to the power of {exponent} is {res}')"
   ]
  },
  {
   "cell_type": "markdown",
   "id": "92994a78-f1b9-4b9a-b523-e9b390b9b0d7",
   "metadata": {},
   "source": [
    "## print using loop and decision statement:\n",
    "\n",
    "$1^{-1} = 1$\n",
    "\n",
    "$1^{-2} = 1$\n",
    "\n",
    "$1^{-3} = 1$\n",
    "\n",
    "$1^{-4} = 1$\n",
    "\n",
    "$2^{-1} = 0.5$\n",
    "\n",
    "$2^{-2} = 0.25$\n",
    "\n",
    "$2^{-3} = 0.125$\n",
    "\n",
    "$2^{-4} = 0.0625$\n",
    "\n",
    "$3^{-1} = 0.3333$\n",
    "\n",
    "$3^{-2} = 0.1111$\n",
    "\n",
    "$3^{-3} = 0.037037$\n",
    "\n",
    "$3^{-4} = 0.012345$"
   ]
  },
  {
   "cell_type": "code",
   "execution_count": 25,
   "id": "0cca7eae-f9d5-4d9b-a538-2e755346edf8",
   "metadata": {},
   "outputs": [
    {
     "data": {
      "text/latex": [
       "$\\displaystyle 1^{-1} = 1$"
      ],
      "text/plain": [
       "<IPython.core.display.Math object>"
      ]
     },
     "metadata": {},
     "output_type": "display_data"
    },
    {
     "data": {
      "text/latex": [
       "$\\displaystyle 1^{-2} = 1$"
      ],
      "text/plain": [
       "<IPython.core.display.Math object>"
      ]
     },
     "metadata": {},
     "output_type": "display_data"
    },
    {
     "data": {
      "text/latex": [
       "$\\displaystyle 1^{-3} = 1$"
      ],
      "text/plain": [
       "<IPython.core.display.Math object>"
      ]
     },
     "metadata": {},
     "output_type": "display_data"
    },
    {
     "data": {
      "text/latex": [
       "$\\displaystyle 1^{-4} = 1$"
      ],
      "text/plain": [
       "<IPython.core.display.Math object>"
      ]
     },
     "metadata": {},
     "output_type": "display_data"
    },
    {
     "data": {
      "text/latex": [
       "$\\displaystyle 1^{-5} = 1$"
      ],
      "text/plain": [
       "<IPython.core.display.Math object>"
      ]
     },
     "metadata": {},
     "output_type": "display_data"
    },
    {
     "data": {
      "text/latex": [
       "$\\displaystyle 2^{-1} = 0.5$"
      ],
      "text/plain": [
       "<IPython.core.display.Math object>"
      ]
     },
     "metadata": {},
     "output_type": "display_data"
    },
    {
     "data": {
      "text/latex": [
       "$\\displaystyle 2^{-2} = 0.25$"
      ],
      "text/plain": [
       "<IPython.core.display.Math object>"
      ]
     },
     "metadata": {},
     "output_type": "display_data"
    },
    {
     "data": {
      "text/latex": [
       "$\\displaystyle 2^{-3} = 0.125$"
      ],
      "text/plain": [
       "<IPython.core.display.Math object>"
      ]
     },
     "metadata": {},
     "output_type": "display_data"
    },
    {
     "data": {
      "text/latex": [
       "$\\displaystyle 2^{-4} = 0.0625$"
      ],
      "text/plain": [
       "<IPython.core.display.Math object>"
      ]
     },
     "metadata": {},
     "output_type": "display_data"
    },
    {
     "data": {
      "text/latex": [
       "$\\displaystyle 2^{-5} = 0.03125$"
      ],
      "text/plain": [
       "<IPython.core.display.Math object>"
      ]
     },
     "metadata": {},
     "output_type": "display_data"
    },
    {
     "data": {
      "text/latex": [
       "$\\displaystyle 3^{-1} = 0.333333$"
      ],
      "text/plain": [
       "<IPython.core.display.Math object>"
      ]
     },
     "metadata": {},
     "output_type": "display_data"
    },
    {
     "data": {
      "text/latex": [
       "$\\displaystyle 3^{-2} = 0.111111$"
      ],
      "text/plain": [
       "<IPython.core.display.Math object>"
      ]
     },
     "metadata": {},
     "output_type": "display_data"
    },
    {
     "data": {
      "text/latex": [
       "$\\displaystyle 3^{-3} = 0.037037$"
      ],
      "text/plain": [
       "<IPython.core.display.Math object>"
      ]
     },
     "metadata": {},
     "output_type": "display_data"
    },
    {
     "data": {
      "text/latex": [
       "$\\displaystyle 3^{-4} = 0.0123457$"
      ],
      "text/plain": [
       "<IPython.core.display.Math object>"
      ]
     },
     "metadata": {},
     "output_type": "display_data"
    },
    {
     "data": {
      "text/latex": [
       "$\\displaystyle 3^{-5} = 0.00411523$"
      ],
      "text/plain": [
       "<IPython.core.display.Math object>"
      ]
     },
     "metadata": {},
     "output_type": "display_data"
    }
   ],
   "source": [
    "from IPython.display import display, Math\n",
    "\n",
    "for i in range(4):\n",
    "    for j in range(6):\n",
    "        if i > 0 and j > 0:\n",
    "            res = i**(-j)\n",
    "            display(Math('%g^{-%g} = %g' %(i, j, res)))\n",
    "            "
   ]
  },
  {
   "cell_type": "markdown",
   "id": "a4c2c3c6-45e7-4904-8354-c6acf702b890",
   "metadata": {},
   "source": [
    "## 17. Absolute value\n",
    "\n",
    "### explanation:\n",
    "\"Absolute value is the distance of the number to the origin of the number line\"\n",
    "\n",
    "### notation:\n",
    "$abs(x)$\n",
    "\n",
    "$\\lvert x \\rvert$\n",
    "\n",
    "### definition:\n",
    "For any real number x, the **absolute** value or **modulus** of ***x*** \n",
    "is denoted by $\\lvert x \\rvert$ (a vertical bar on each side of the quantity) or $abs(x)$ \n",
    "and is defined as\n",
    "\n",
    "$ \\left | x \\right | =\n",
    "\\left\\{\\begin{matrix}\n",
    "x, & \\text{if } x\\geq 0 \\\\ \n",
    "-x & \\text{if } x < 0\n",
    "\\end{matrix}\\right.$"
   ]
  },
  {
   "cell_type": "code",
   "execution_count": null,
   "id": "05882e7e-c67d-4fe6-8322-4df10d40ef9d",
   "metadata": {},
   "outputs": [],
   "source": [
    "## Exc.\n",
    "Print the absolute value of each of a set of nubmers only if each number is < -5 or > 2\n",
    "Number set: -4, 6, -1, 43, -18, 2, 0"
   ]
  },
  {
   "cell_type": "code",
   "execution_count": 29,
   "id": "c002b832-8f71-4cff-b141-91c6ddb1ee75",
   "metadata": {},
   "outputs": [
    {
     "name": "stdout",
     "output_type": "stream",
     "text": [
      "Absolute value of 6 is 6\n",
      "Absolute value of 43 is 43\n",
      "Absolute value of -18 is 18\n"
     ]
    }
   ],
   "source": [
    "numbers = [-4, 6, -1, 43, -18, 2, 0]\n",
    "\n",
    "for number in numbers:\n",
    "    if number < -5 or number > 2:\n",
    "        print(f'Absolute value of {number} is {abs(number)}')\n"
   ]
  },
  {
   "cell_type": "code",
   "execution_count": null,
   "id": "91fd114d-60d1-4a70-9008-60048133ea38",
   "metadata": {},
   "outputs": [],
   "source": []
  }
 ],
 "metadata": {
  "kernelspec": {
   "display_name": "Python 3",
   "language": "python",
   "name": "python3"
  },
  "language_info": {
   "codemirror_mode": {
    "name": "ipython",
    "version": 3
   },
   "file_extension": ".py",
   "mimetype": "text/x-python",
   "name": "python",
   "nbconvert_exporter": "python",
   "pygments_lexer": "ipython3",
   "version": "3.8.5"
  }
 },
 "nbformat": 4,
 "nbformat_minor": 5
}
